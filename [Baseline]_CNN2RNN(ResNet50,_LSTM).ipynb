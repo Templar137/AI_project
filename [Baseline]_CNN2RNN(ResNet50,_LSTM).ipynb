{
  "nbformat": 4,
  "nbformat_minor": 0,
  "metadata": {
    "kernelspec": {
      "name": "python3",
      "display_name": "Python 3"
    },
    "colab": {
      "name": "[Baseline]_CNN2RNN(ResNet50, LSTM).ipynb",
      "provenance": [],
      "collapsed_sections": [
        "9LO3QV4zgS3s",
        "OakmnMEygS3u",
        "ebrp2l5-gS3u",
        "yqEySEmugS3w"
      ],
      "machine_shape": "hm",
      "include_colab_link": true
    },
    "language_info": {
      "name": "python"
    },
    "accelerator": "GPU"
  },
  "cells": [
    {
      "cell_type": "markdown",
      "metadata": {
        "id": "view-in-github",
        "colab_type": "text"
      },
      "source": [
        "<a href=\"https://colab.research.google.com/github/Templar137/AI_project/blob/main/%5BBaseline%5D_CNN2RNN(ResNet50%2C_LSTM).ipynb\" target=\"_parent\"><img src=\"https://colab.research.google.com/assets/colab-badge.svg\" alt=\"Open In Colab\"/></a>"
      ]
    },
    {
      "cell_type": "markdown",
      "metadata": {
        "id": "xWD6fFSwgS3f"
      },
      "source": [
        "baseline.ipynb <br>\n",
        ".. ├ models <br>\n",
        ".. └ data <br>\n",
        ".... ├ train_sdf <br>\n",
        ".... ├ dev_sdf <br>\n",
        ".... ├ test_sdf <br>\n",
        ".... ├ train_imgs <br>\n",
        ".... ├ test_imgs <br>\n",
        ".... ├ sample_train.csv <br>\n",
        ".... ├ sample_test.csv <br>\n",
        ".... └ sample_submission.csv <br>"
      ]
    },
    {
      "cell_type": "code",
      "metadata": {
        "colab": {
          "base_uri": "https://localhost:8080/"
        },
        "id": "oeCgDRS8gX8h",
        "outputId": "78432deb-ad53-4d28-96bc-a4e769afdbd2"
      },
      "source": [
        "!pip install kora -q\n",
        "import kora.install.rdkit\n",
        "\n",
        "from google.colab import drive\n",
        "drive.mount('/content/gdrive/')"
      ],
      "execution_count": 2,
      "outputs": [
        {
          "output_type": "stream",
          "name": "stdout",
          "text": [
            "Drive already mounted at /content/gdrive/; to attempt to forcibly remount, call drive.mount(\"/content/gdrive/\", force_remount=True).\n"
          ]
        }
      ]
    },
    {
      "cell_type": "markdown",
      "metadata": {
        "id": "8OC_RGtvgS3j"
      },
      "source": [
        "## 사용 패키지"
      ]
    },
    {
      "cell_type": "code",
      "metadata": {
        "id": "6opPu4z_p_wb"
      },
      "source": [
        "import numpy as np\n",
        "import pandas as pd\n",
        "import matplotlib.pyplot as plt\n",
        "import cv2\n",
        "import rdkit\n",
        "from rdkit import Chem\n",
        "from rdkit.Chem import Draw\n",
        "from rdkit import RDLogger\n",
        "RDLogger.DisableLog('rdApp.*')\n",
        "from tqdm import tqdm\n",
        "import os\n",
        "import zipfile\n",
        "import matplotlib.pyplot as plt\n",
        "\n",
        "import torch\n",
        "from torchsummary import summary as summary_\n",
        "from torch import nn\n",
        "from torchvision import models\n",
        "from torch.utils.data import Dataset, DataLoader"
      ],
      "execution_count": 1,
      "outputs": []
    },
    {
      "cell_type": "code",
      "metadata": {
        "colab": {
          "base_uri": "https://localhost:8080/"
        },
        "id": "t6-SdGchgS3l",
        "outputId": "294add0e-ee80-4f41-9329-3651f85b61e6"
      },
      "source": [
        "print('numpy verison :', np.__version__)\n",
        "print('pandas version :', pd.__version__)\n",
        "print('opencv version :', cv2.__version__)\n",
        "print('rdkit version :', rdkit.__version__)\n",
        "print('torch version :', torch.__version__)"
      ],
      "execution_count": null,
      "outputs": [
        {
          "output_type": "stream",
          "text": [
            "numpy verison : 1.19.5\n",
            "pandas version : 1.1.5\n",
            "opencv version : 4.1.2\n",
            "rdkit version : 2020.09.1\n",
            "torch version : 1.9.0+cu102\n"
          ],
          "name": "stdout"
        }
      ]
    },
    {
      "cell_type": "markdown",
      "metadata": {
        "id": "1TgNheu6gS3m"
      },
      "source": [
        "## 데이터 로드"
      ]
    },
    {
      "cell_type": "code",
      "metadata": {
        "id": "7WZfRhyfp_wd"
      },
      "source": [
        "train = pd.read_csv('/content/gdrive/MyDrive/Dataset/Samsung_AI_Challenge/train.csv')\n",
        "dev = pd.read_csv('/content/gdrive/MyDrive/Dataset/Samsung_AI_Challenge/dev.csv')"
      ],
      "execution_count": 11,
      "outputs": []
    },
    {
      "cell_type": "code",
      "metadata": {
        "colab": {
          "base_uri": "https://localhost:8080/",
          "height": 204
        },
        "id": "X5msQrpxp_we",
        "outputId": "8327286b-acbd-4b83-cf9a-0bc5dfddd271"
      },
      "source": [
        "train.head()"
      ],
      "execution_count": 12,
      "outputs": [
        {
          "output_type": "execute_result",
          "data": {
            "text/html": [
              "<div>\n",
              "<style scoped>\n",
              "    .dataframe tbody tr th:only-of-type {\n",
              "        vertical-align: middle;\n",
              "    }\n",
              "\n",
              "    .dataframe tbody tr th {\n",
              "        vertical-align: top;\n",
              "    }\n",
              "\n",
              "    .dataframe thead th {\n",
              "        text-align: right;\n",
              "    }\n",
              "</style>\n",
              "<table border=\"1\" class=\"dataframe\">\n",
              "  <thead>\n",
              "    <tr style=\"text-align: right;\">\n",
              "      <th></th>\n",
              "      <th>uid</th>\n",
              "      <th>SMILES</th>\n",
              "      <th>S1_energy(eV)</th>\n",
              "      <th>T1_energy(eV)</th>\n",
              "    </tr>\n",
              "  </thead>\n",
              "  <tbody>\n",
              "    <tr>\n",
              "      <th>0</th>\n",
              "      <td>train_0</td>\n",
              "      <td>CCC1CCCCN1C(=O)C(C)OC(=O)c1c(C)oc(-n2cccc2)c1C#N</td>\n",
              "      <td>4.6747</td>\n",
              "      <td>3.3809</td>\n",
              "    </tr>\n",
              "    <tr>\n",
              "      <th>1</th>\n",
              "      <td>train_1</td>\n",
              "      <td>COc1ccc(Oc2ccc(N3C(=S)NC(c4ccccn4)C3c3cc(C)n(-...</td>\n",
              "      <td>3.6617</td>\n",
              "      <td>3.4585</td>\n",
              "    </tr>\n",
              "    <tr>\n",
              "      <th>2</th>\n",
              "      <td>train_2</td>\n",
              "      <td>CC(=O)Nc1ccc(C(=O)[C@H](C)Sc2nnc(C3CCCCC3)o2)cc1</td>\n",
              "      <td>3.6420</td>\n",
              "      <td>3.1787</td>\n",
              "    </tr>\n",
              "    <tr>\n",
              "      <th>3</th>\n",
              "      <td>train_3</td>\n",
              "      <td>OC(CNC1CC1)CN1CCc2sccc2C1</td>\n",
              "      <td>4.8901</td>\n",
              "      <td>3.7847</td>\n",
              "    </tr>\n",
              "    <tr>\n",
              "      <th>4</th>\n",
              "      <td>train_4</td>\n",
              "      <td>CCNC(CCCC(F)(F)F)C1(OCC)CCOCC1</td>\n",
              "      <td>6.4967</td>\n",
              "      <td>6.2724</td>\n",
              "    </tr>\n",
              "  </tbody>\n",
              "</table>\n",
              "</div>"
            ],
            "text/plain": [
              "       uid  ... T1_energy(eV)\n",
              "0  train_0  ...        3.3809\n",
              "1  train_1  ...        3.4585\n",
              "2  train_2  ...        3.1787\n",
              "3  train_3  ...        3.7847\n",
              "4  train_4  ...        6.2724\n",
              "\n",
              "[5 rows x 4 columns]"
            ]
          },
          "metadata": {},
          "execution_count": 12
        }
      ]
    },
    {
      "cell_type": "code",
      "metadata": {
        "colab": {
          "base_uri": "https://localhost:8080/",
          "height": 204
        },
        "id": "1gJjKfrDgS3n",
        "outputId": "4dffc67b-2493-4d9f-bfbd-abb335b0b97e"
      },
      "source": [
        "dev.head()"
      ],
      "execution_count": 13,
      "outputs": [
        {
          "output_type": "execute_result",
          "data": {
            "text/html": [
              "<div>\n",
              "<style scoped>\n",
              "    .dataframe tbody tr th:only-of-type {\n",
              "        vertical-align: middle;\n",
              "    }\n",
              "\n",
              "    .dataframe tbody tr th {\n",
              "        vertical-align: top;\n",
              "    }\n",
              "\n",
              "    .dataframe thead th {\n",
              "        text-align: right;\n",
              "    }\n",
              "</style>\n",
              "<table border=\"1\" class=\"dataframe\">\n",
              "  <thead>\n",
              "    <tr style=\"text-align: right;\">\n",
              "      <th></th>\n",
              "      <th>uid</th>\n",
              "      <th>SMILES</th>\n",
              "      <th>S1_energy(eV)</th>\n",
              "      <th>T1_energy(eV)</th>\n",
              "    </tr>\n",
              "  </thead>\n",
              "  <tbody>\n",
              "    <tr>\n",
              "      <th>0</th>\n",
              "      <td>dev_0</td>\n",
              "      <td>O=C1c2ccccc2C2(c3ccccc31)c1ccccc1N(c1ccc(-c3nc...</td>\n",
              "      <td>2.7609</td>\n",
              "      <td>2.7540</td>\n",
              "    </tr>\n",
              "    <tr>\n",
              "      <th>1</th>\n",
              "      <td>dev_1</td>\n",
              "      <td>Cc1cccc2c3ccccc3n(-c3ccc(-c4c(-c5ccccc5)c(C#N)...</td>\n",
              "      <td>3.0495</td>\n",
              "      <td>3.0163</td>\n",
              "    </tr>\n",
              "    <tr>\n",
              "      <th>2</th>\n",
              "      <td>dev_2</td>\n",
              "      <td>CC1(C)c2ccccc2-c2ccc(-c3c(F)c(F)c(-c4ccc5c(c4)...</td>\n",
              "      <td>2.8314</td>\n",
              "      <td>2.1412</td>\n",
              "    </tr>\n",
              "    <tr>\n",
              "      <th>3</th>\n",
              "      <td>dev_3</td>\n",
              "      <td>CC(C)(C)c1ccc2c(c1)B1c3cc(C(C)(C)C)ccc3Oc3cc(-...</td>\n",
              "      <td>3.1813</td>\n",
              "      <td>2.9424</td>\n",
              "    </tr>\n",
              "    <tr>\n",
              "      <th>4</th>\n",
              "      <td>dev_4</td>\n",
              "      <td>O=C1c2cc(-c3ccc4c(c3)c3ccccc3n4-c3ccccc3)ccc2S...</td>\n",
              "      <td>2.9559</td>\n",
              "      <td>2.7362</td>\n",
              "    </tr>\n",
              "  </tbody>\n",
              "</table>\n",
              "</div>"
            ],
            "text/plain": [
              "     uid  ... T1_energy(eV)\n",
              "0  dev_0  ...        2.7540\n",
              "1  dev_1  ...        3.0163\n",
              "2  dev_2  ...        2.1412\n",
              "3  dev_3  ...        2.9424\n",
              "4  dev_4  ...        2.7362\n",
              "\n",
              "[5 rows x 4 columns]"
            ]
          },
          "metadata": {},
          "execution_count": 13
        }
      ]
    },
    {
      "cell_type": "code",
      "metadata": {
        "id": "WuseML6agS3n"
      },
      "source": [
        "train_org = pd.concat([train, dev])\n",
        "train_90 = pd.concat([train, dev])\n",
        "train_180 = pd.concat([train, dev])\n",
        "train_270 = pd.concat([train, dev])"
      ],
      "execution_count": 52,
      "outputs": []
    },
    {
      "cell_type": "code",
      "metadata": {
        "id": "VYhw1GdnClLg"
      },
      "source": [
        "train_90['uid'] = train_90['uid'] + '_a'\n",
        "train_180['uid'] = train_180['uid'] + '_b'\n",
        "train_270['uid'] = train_270['uid'] + '_c'"
      ],
      "execution_count": 53,
      "outputs": []
    },
    {
      "cell_type": "code",
      "metadata": {
        "id": "SBSOpCLdCxak"
      },
      "source": [
        "train = pd.concat([train_org, train_90, train_180, train_270], ignore_index = True)"
      ],
      "execution_count": 54,
      "outputs": []
    },
    {
      "cell_type": "code",
      "metadata": {
        "colab": {
          "base_uri": "https://localhost:8080/",
          "height": 265
        },
        "id": "t7K7Sfa7p_we",
        "outputId": "8ff2f3fb-7299-4a13-860e-ac7fefd65135"
      },
      "source": [
        "train['S1_energy(eV)'].hist(bins=100, alpha=0.5)\n",
        "train['T1_energy(eV)'].hist(bins=100, alpha=0.5)\n",
        "plt.show()"
      ],
      "execution_count": 55,
      "outputs": [
        {
          "output_type": "display_data",
          "data": {
            "image/png": "[encoded data removed]",
            "text/plain": [
              "<Figure size 432x288 with 1 Axes>"
            ]
          },
          "metadata": {
            "needs_background": "light"
          }
        }
      ]
    },
    {
      "cell_type": "code",
      "metadata": {
        "colab": {
          "base_uri": "https://localhost:8080/",
          "height": 419
        },
        "id": "Du8M3uORGCix",
        "outputId": "729a93b3-0a7e-499b-fc3a-b9cf49cba226"
      },
      "source": [
        "train"
      ],
      "execution_count": 58,
      "outputs": [
        {
          "output_type": "execute_result",
          "data": {
            "text/html": [
              "<div>\n",
              "<style scoped>\n",
              "    .dataframe tbody tr th:only-of-type {\n",
              "        vertical-align: middle;\n",
              "    }\n",
              "\n",
              "    .dataframe tbody tr th {\n",
              "        vertical-align: top;\n",
              "    }\n",
              "\n",
              "    .dataframe thead th {\n",
              "        text-align: right;\n",
              "    }\n",
              "</style>\n",
              "<table border=\"1\" class=\"dataframe\">\n",
              "  <thead>\n",
              "    <tr style=\"text-align: right;\">\n",
              "      <th></th>\n",
              "      <th>uid</th>\n",
              "      <th>SMILES</th>\n",
              "      <th>S1_energy(eV)</th>\n",
              "      <th>T1_energy(eV)</th>\n",
              "    </tr>\n",
              "  </thead>\n",
              "  <tbody>\n",
              "    <tr>\n",
              "      <th>0</th>\n",
              "      <td>train_0</td>\n",
              "      <td>CCC1CCCCN1C(=O)C(C)OC(=O)c1c(C)oc(-n2cccc2)c1C#N</td>\n",
              "      <td>4.6747</td>\n",
              "      <td>3.3809</td>\n",
              "    </tr>\n",
              "    <tr>\n",
              "      <th>1</th>\n",
              "      <td>train_1</td>\n",
              "      <td>COc1ccc(Oc2ccc(N3C(=S)NC(c4ccccn4)C3c3cc(C)n(-...</td>\n",
              "      <td>3.6617</td>\n",
              "      <td>3.4585</td>\n",
              "    </tr>\n",
              "    <tr>\n",
              "      <th>2</th>\n",
              "      <td>train_2</td>\n",
              "      <td>CC(=O)Nc1ccc(C(=O)[C@H](C)Sc2nnc(C3CCCCC3)o2)cc1</td>\n",
              "      <td>3.6420</td>\n",
              "      <td>3.1787</td>\n",
              "    </tr>\n",
              "    <tr>\n",
              "      <th>3</th>\n",
              "      <td>train_3</td>\n",
              "      <td>OC(CNC1CC1)CN1CCc2sccc2C1</td>\n",
              "      <td>4.8901</td>\n",
              "      <td>3.7847</td>\n",
              "    </tr>\n",
              "    <tr>\n",
              "      <th>4</th>\n",
              "      <td>train_4</td>\n",
              "      <td>CCNC(CCCC(F)(F)F)C1(OCC)CCOCC1</td>\n",
              "      <td>6.4967</td>\n",
              "      <td>6.2724</td>\n",
              "    </tr>\n",
              "    <tr>\n",
              "      <th>...</th>\n",
              "      <td>...</td>\n",
              "      <td>...</td>\n",
              "      <td>...</td>\n",
              "      <td>...</td>\n",
              "    </tr>\n",
              "    <tr>\n",
              "      <th>121375</th>\n",
              "      <td>dev_66_c</td>\n",
              "      <td>N#Cc1cc(-c2ccc(N3c4ccccc4Oc4ccccc43)cc2)c(-c2c...</td>\n",
              "      <td>2.1939</td>\n",
              "      <td>2.1846</td>\n",
              "    </tr>\n",
              "    <tr>\n",
              "      <th>121376</th>\n",
              "      <td>dev_67_c</td>\n",
              "      <td>CC1(C)c2ccccc2N(c2ccc(-c3nc4ccc(N5c6ccccc6C(C)...</td>\n",
              "      <td>2.3537</td>\n",
              "      <td>2.3371</td>\n",
              "    </tr>\n",
              "    <tr>\n",
              "      <th>121377</th>\n",
              "      <td>dev_68_c</td>\n",
              "      <td>Cc1cc(-n2c3ccc(C(C)(C)C)cc3c3cc(C(C)(C)C)ccc32...</td>\n",
              "      <td>2.1364</td>\n",
              "      <td>2.1260</td>\n",
              "    </tr>\n",
              "    <tr>\n",
              "      <th>121378</th>\n",
              "      <td>dev_69_c</td>\n",
              "      <td>Cc1cc(-n2c3ccccc3c3ccccc32)cc(C)c1B1c2ccccc2B(...</td>\n",
              "      <td>2.2650</td>\n",
              "      <td>2.2511</td>\n",
              "    </tr>\n",
              "    <tr>\n",
              "      <th>121379</th>\n",
              "      <td>dev_70_c</td>\n",
              "      <td>CC(C)(C)c1ccc2c(c1)c1cc(C(C)(C)C)ccc1n2-c1c(Cl...</td>\n",
              "      <td>2.5477</td>\n",
              "      <td>2.4184</td>\n",
              "    </tr>\n",
              "  </tbody>\n",
              "</table>\n",
              "<p>121380 rows × 4 columns</p>\n",
              "</div>"
            ],
            "text/plain": [
              "             uid  ... T1_energy(eV)\n",
              "0        train_0  ...        3.3809\n",
              "1        train_1  ...        3.4585\n",
              "2        train_2  ...        3.1787\n",
              "3        train_3  ...        3.7847\n",
              "4        train_4  ...        6.2724\n",
              "...          ...  ...           ...\n",
              "121375  dev_66_c  ...        2.1846\n",
              "121376  dev_67_c  ...        2.3371\n",
              "121377  dev_68_c  ...        2.1260\n",
              "121378  dev_69_c  ...        2.2511\n",
              "121379  dev_70_c  ...        2.4184\n",
              "\n",
              "[121380 rows x 4 columns]"
            ]
          },
          "metadata": {},
          "execution_count": 58
        }
      ]
    },
    {
      "cell_type": "markdown",
      "metadata": {
        "id": "hBGe4yDFgS3o"
      },
      "source": [
        "## 데이터 전처리\n",
        "\n",
        "분자의 구조적 특성을 찾기 위해 SMILES와 분자구조 이미지를 사용하였습니다."
      ]
    },
    {
      "cell_type": "code",
      "metadata": {
        "id": "AlVVEkBYG7CF"
      },
      "source": [
        "os.mkdir('/content/train_imgs')"
      ],
      "execution_count": null,
      "outputs": []
    },
    {
      "cell_type": "code",
      "metadata": {
        "id": "eYNRTReEJnRH"
      },
      "source": [
        "name_train = sorted(os.listdir('/content/train_imgs'))"
      ],
      "execution_count": 17,
      "outputs": []
    },
    {
      "cell_type": "code",
      "metadata": {
        "colab": {
          "base_uri": "https://localhost:8080/"
        },
        "id": "4tAuwTfyJPzB",
        "outputId": "94c23413-7210-42d3-c8d7-ed14deeb6397"
      },
      "source": [
        "for name in tqdm(name_train):\n",
        "    img = cv2.imread(f'/content/train_imgs/{name}', cv2.IMREAD_COLOR)\n",
        "    img_90 = cv2.rotate(img, cv2.ROTATE_90_CLOCKWISE)\n",
        "    plt.imsave('/content/train_imgs/' + name[:-4] + '_a.png', img_90)\n",
        "    \n",
        "    img_180 = cv2.rotate(img, cv2.ROTATE_180)\n",
        "    plt.imsave('/content/train_imgs/' + name[:-4] + '_b.png', img_180)\n",
        "\n",
        "    img_270 = cv2.rotate(img, cv2.ROTATE_90_COUNTERCLOCKWISE)\n",
        "    plt.imsave('/content/train_imgs/' + name[:-4] + '_c.png', img_270)"
      ],
      "execution_count": 18,
      "outputs": [
        {
          "output_type": "stream",
          "name": "stderr",
          "text": [
            "100%|██████████| 121380/121380 [1:14:02<00:00, 27.32it/s]\n"
          ]
        }
      ]
    },
    {
      "cell_type": "code",
      "metadata": {
        "colab": {
          "base_uri": "https://localhost:8080/",
          "height": 269
        },
        "id": "a7RxvFJUgS3o",
        "outputId": "def0d97d-382b-4d95-e73e-35edcc14c4d2"
      },
      "source": [
        "sample_img = cv2.imread('/content/train_imgs/dev_0_c.png')\n",
        "plt.imshow(sample_img)\n",
        "plt.show()"
      ],
      "execution_count": 59,
      "outputs": [
        {
          "output_type": "display_data",
          "data": {
            "image/png": "[encoded data removed]",
            "text/plain": [
              "<Figure size 432x288 with 1 Axes>"
            ]
          },
          "metadata": {
            "needs_background": "light"
          }
        }
      ]
    },
    {
      "cell_type": "code",
      "metadata": {
        "id": "OlArQPSbcp0D"
      },
      "source": [
        "os.chdir('/content/train_imgs')\n",
        "\n",
        "my_zip = zipfile.ZipFile('/content/gdrive/MyDrive/Dataset/Samsung_AI_Challenge/train__total_img.zip', 'w')"
      ],
      "execution_count": 20,
      "outputs": []
    },
    {
      "cell_type": "markdown",
      "metadata": {
        "id": "qcfYBBghdf-G"
      },
      "source": [
        "# 알집 만든거 풀기"
      ]
    },
    {
      "cell_type": "code",
      "metadata": {
        "id": "m0SF1yyHdjMb"
      },
      "source": [
        "os.mkdir('/content/train_imgs')"
      ],
      "execution_count": null,
      "outputs": []
    },
    {
      "cell_type": "code",
      "metadata": {
        "id": "zfG7x5v_djAp"
      },
      "source": [
        ""
      ],
      "execution_count": null,
      "outputs": []
    },
    {
      "cell_type": "markdown",
      "metadata": {
        "id": "FJ4L883egS3p"
      },
      "source": [
        "## 하이퍼파라미터"
      ]
    },
    {
      "cell_type": "code",
      "metadata": {
        "id": "mBCHZd0Gp_wg"
      },
      "source": [
        "device = torch.device(\"cuda:0\")\n",
        "BATCH_SIZE = 64\n",
        "EPOCHS = 50\n",
        "num_layers = 1\n",
        "dropout_rate = 0.15\n",
        "embedding_dim = 128\n",
        "learning_rate = 1e-4\n",
        "vision_pretrain = True\n",
        "save_path = f'/content/gdrive/MyDrive/Samsung_model/best_model_dim{embedding_dim}_drop{dropout_rate}_layers{num_layers}_resnet101_augmentation.pt'"
      ],
      "execution_count": 48,
      "outputs": []
    },
    {
      "cell_type": "markdown",
      "metadata": {
        "id": "k44OJHPtgS3p"
      },
      "source": [
        "## SMILES Tokenizing"
      ]
    },
    {
      "cell_type": "code",
      "metadata": {
        "id": "XP7FhxPLp_wf"
      },
      "source": [
        "class SMILES_Tokenizer():\n",
        "    def __init__(self, max_length):\n",
        "        self.txt2idx = {}\n",
        "        self.idx2txt = {}\n",
        "        self.max_length = max_length\n",
        "    \n",
        "    def fit(self, SMILES_list):\n",
        "        unique_char = set()\n",
        "        for smiles in SMILES_list:\n",
        "            for char in smiles:\n",
        "                unique_char.add(char)\n",
        "        unique_char = sorted(list(unique_char))\n",
        "        for i, char in enumerate(unique_char):\n",
        "            self.txt2idx[char]=i+2\n",
        "            self.idx2txt[i+2]=char\n",
        "            \n",
        "    def txt2seq(self, texts):\n",
        "        seqs = []\n",
        "        for text in tqdm(texts):\n",
        "            seq = [0]*self.max_length\n",
        "            for i, t in enumerate(text):\n",
        "                if i == self.max_length:\n",
        "                    break\n",
        "                try:\n",
        "                    seq[i] = self.txt2idx[t]\n",
        "                except:\n",
        "                    seq[i] = 1\n",
        "            seqs.append(seq)\n",
        "        return np.array(seqs)"
      ],
      "execution_count": 22,
      "outputs": []
    },
    {
      "cell_type": "code",
      "metadata": {
        "colab": {
          "base_uri": "https://localhost:8080/"
        },
        "id": "Aj9oVC7Xp_wf",
        "outputId": "886779eb-d54c-4923-d7fb-ef19a3aed987"
      },
      "source": [
        "max_len = train.SMILES.str.len().max()\n",
        "max_len"
      ],
      "execution_count": 23,
      "outputs": [
        {
          "output_type": "execute_result",
          "data": {
            "text/plain": [
              "265"
            ]
          },
          "metadata": {},
          "execution_count": 23
        }
      ]
    },
    {
      "cell_type": "code",
      "metadata": {
        "id": "Xvo009bgp_wf"
      },
      "source": [
        "tokenizer = SMILES_Tokenizer(max_len)\n",
        "tokenizer.fit(train.SMILES)"
      ],
      "execution_count": 24,
      "outputs": []
    },
    {
      "cell_type": "code",
      "metadata": {
        "colab": {
          "base_uri": "https://localhost:8080/"
        },
        "id": "v8TdltRhp_wf",
        "outputId": "7de7415e-8766-47a0-ce4f-b88cc300ff18"
      },
      "source": [
        "seqs = tokenizer.txt2seq(train.SMILES)\n",
        "labels = train[['S1_energy(eV)', 'T1_energy(eV)']].to_numpy()\n",
        "imgs = ('/content/train_imgs/'+train.uid+'.png').to_numpy()"
      ],
      "execution_count": 25,
      "outputs": [
        {
          "output_type": "stream",
          "name": "stderr",
          "text": [
            "100%|██████████| 30274/30274 [00:00<00:00, 83595.98it/s]\n"
          ]
        }
      ]
    },
    {
      "cell_type": "markdown",
      "metadata": {
        "id": "Q4zkUmZhgS3q"
      },
      "source": [
        "## 학습 데이터셋"
      ]
    },
    {
      "cell_type": "code",
      "metadata": {
        "id": "DxosU_4Kp_wg"
      },
      "source": [
        "from sklearn.utils import shuffle\n",
        "imgs, seqs, labels = shuffle(imgs, seqs, labels, random_state=42)"
      ],
      "execution_count": 36,
      "outputs": []
    },
    {
      "cell_type": "code",
      "metadata": {
        "id": "zuO0XB0Kp_wg"
      },
      "source": [
        "train_imgs = imgs[:115000]\n",
        "train_seqs = seqs[:115000]\n",
        "train_labels = labels[:115000]\n",
        "val_imgs = imgs[115000:]\n",
        "val_seqs = seqs[115000:]\n",
        "val_labels = labels[115000:]"
      ],
      "execution_count": 50,
      "outputs": []
    },
    {
      "cell_type": "code",
      "metadata": {
        "colab": {
          "base_uri": "https://localhost:8080/"
        },
        "id": "4LFsNDNAp_wg",
        "outputId": "476e169a-0718-4fcf-e48b-afb9eef4a7c9"
      },
      "source": [
        "train_imgs.shape, train_seqs.shape, train_labels.shape, val_imgs.shape, val_seqs.shape, val_labels.shape"
      ],
      "execution_count": 51,
      "outputs": [
        {
          "output_type": "execute_result",
          "data": {
            "text/plain": [
              "((30274,), (30274, 265), (30274, 2), (0,), (0, 265), (0, 2))"
            ]
          },
          "metadata": {},
          "execution_count": 51
        }
      ]
    },
    {
      "cell_type": "code",
      "metadata": {
        "colab": {
          "base_uri": "https://localhost:8080/",
          "height": 439
        },
        "id": "ErVH5eJYdPeG",
        "outputId": "a6160c27-1950-476c-8bd4-181491c1ae8d"
      },
      "source": [
        "pd.DataFrame(train_seqs)"
      ],
      "execution_count": 39,
      "outputs": [
        {
          "output_type": "execute_result",
          "data": {
            "text/html": [
              "<div>\n",
              "<style scoped>\n",
              "    .dataframe tbody tr th:only-of-type {\n",
              "        vertical-align: middle;\n",
              "    }\n",
              "\n",
              "    .dataframe tbody tr th {\n",
              "        vertical-align: top;\n",
              "    }\n",
              "\n",
              "    .dataframe thead th {\n",
              "        text-align: right;\n",
              "    }\n",
              "</style>\n",
              "<table border=\"1\" class=\"dataframe\">\n",
              "  <thead>\n",
              "    <tr style=\"text-align: right;\">\n",
              "      <th></th>\n",
              "      <th>0</th>\n",
              "      <th>1</th>\n",
              "      <th>2</th>\n",
              "      <th>3</th>\n",
              "      <th>4</th>\n",
              "      <th>5</th>\n",
              "      <th>6</th>\n",
              "      <th>7</th>\n",
              "      <th>8</th>\n",
              "      <th>9</th>\n",
              "      <th>10</th>\n",
              "      <th>11</th>\n",
              "      <th>12</th>\n",
              "      <th>13</th>\n",
              "      <th>14</th>\n",
              "      <th>15</th>\n",
              "      <th>16</th>\n",
              "      <th>17</th>\n",
              "      <th>18</th>\n",
              "      <th>19</th>\n",
              "      <th>20</th>\n",
              "      <th>21</th>\n",
              "      <th>22</th>\n",
              "      <th>23</th>\n",
              "      <th>24</th>\n",
              "      <th>25</th>\n",
              "      <th>26</th>\n",
              "      <th>27</th>\n",
              "      <th>28</th>\n",
              "      <th>29</th>\n",
              "      <th>30</th>\n",
              "      <th>31</th>\n",
              "      <th>32</th>\n",
              "      <th>33</th>\n",
              "      <th>34</th>\n",
              "      <th>35</th>\n",
              "      <th>36</th>\n",
              "      <th>37</th>\n",
              "      <th>38</th>\n",
              "      <th>39</th>\n",
              "      <th>...</th>\n",
              "      <th>225</th>\n",
              "      <th>226</th>\n",
              "      <th>227</th>\n",
              "      <th>228</th>\n",
              "      <th>229</th>\n",
              "      <th>230</th>\n",
              "      <th>231</th>\n",
              "      <th>232</th>\n",
              "      <th>233</th>\n",
              "      <th>234</th>\n",
              "      <th>235</th>\n",
              "      <th>236</th>\n",
              "      <th>237</th>\n",
              "      <th>238</th>\n",
              "      <th>239</th>\n",
              "      <th>240</th>\n",
              "      <th>241</th>\n",
              "      <th>242</th>\n",
              "      <th>243</th>\n",
              "      <th>244</th>\n",
              "      <th>245</th>\n",
              "      <th>246</th>\n",
              "      <th>247</th>\n",
              "      <th>248</th>\n",
              "      <th>249</th>\n",
              "      <th>250</th>\n",
              "      <th>251</th>\n",
              "      <th>252</th>\n",
              "      <th>253</th>\n",
              "      <th>254</th>\n",
              "      <th>255</th>\n",
              "      <th>256</th>\n",
              "      <th>257</th>\n",
              "      <th>258</th>\n",
              "      <th>259</th>\n",
              "      <th>260</th>\n",
              "      <th>261</th>\n",
              "      <th>262</th>\n",
              "      <th>263</th>\n",
              "      <th>264</th>\n",
              "    </tr>\n",
              "  </thead>\n",
              "  <tbody>\n",
              "    <tr>\n",
              "      <th>0</th>\n",
              "      <td>22</td>\n",
              "      <td>22</td>\n",
              "      <td>4</td>\n",
              "      <td>22</td>\n",
              "      <td>5</td>\n",
              "      <td>22</td>\n",
              "      <td>4</td>\n",
              "      <td>30</td>\n",
              "      <td>29</td>\n",
              "      <td>34</td>\n",
              "      <td>24</td>\n",
              "      <td>12</td>\n",
              "      <td>32</td>\n",
              "      <td>5</td>\n",
              "      <td>22</td>\n",
              "      <td>4</td>\n",
              "      <td>19</td>\n",
              "      <td>27</td>\n",
              "      <td>5</td>\n",
              "      <td>26</td>\n",
              "      <td>4</td>\n",
              "      <td>22</td>\n",
              "      <td>22</td>\n",
              "      <td>10</td>\n",
              "      <td>26</td>\n",
              "      <td>22</td>\n",
              "      <td>11</td>\n",
              "      <td>22</td>\n",
              "      <td>22</td>\n",
              "      <td>22</td>\n",
              "      <td>22</td>\n",
              "      <td>22</td>\n",
              "      <td>11</td>\n",
              "      <td>26</td>\n",
              "      <td>10</td>\n",
              "      <td>5</td>\n",
              "      <td>22</td>\n",
              "      <td>22</td>\n",
              "      <td>10</td>\n",
              "      <td>4</td>\n",
              "      <td>...</td>\n",
              "      <td>0</td>\n",
              "      <td>0</td>\n",
              "      <td>0</td>\n",
              "      <td>0</td>\n",
              "      <td>0</td>\n",
              "      <td>0</td>\n",
              "      <td>0</td>\n",
              "      <td>0</td>\n",
              "      <td>0</td>\n",
              "      <td>0</td>\n",
              "      <td>0</td>\n",
              "      <td>0</td>\n",
              "      <td>0</td>\n",
              "      <td>0</td>\n",
              "      <td>0</td>\n",
              "      <td>0</td>\n",
              "      <td>0</td>\n",
              "      <td>0</td>\n",
              "      <td>0</td>\n",
              "      <td>0</td>\n",
              "      <td>0</td>\n",
              "      <td>0</td>\n",
              "      <td>0</td>\n",
              "      <td>0</td>\n",
              "      <td>0</td>\n",
              "      <td>0</td>\n",
              "      <td>0</td>\n",
              "      <td>0</td>\n",
              "      <td>0</td>\n",
              "      <td>0</td>\n",
              "      <td>0</td>\n",
              "      <td>0</td>\n",
              "      <td>0</td>\n",
              "      <td>0</td>\n",
              "      <td>0</td>\n",
              "      <td>0</td>\n",
              "      <td>0</td>\n",
              "      <td>0</td>\n",
              "      <td>0</td>\n",
              "      <td>0</td>\n",
              "    </tr>\n",
              "    <tr>\n",
              "      <th>1</th>\n",
              "      <td>22</td>\n",
              "      <td>22</td>\n",
              "      <td>4</td>\n",
              "      <td>22</td>\n",
              "      <td>5</td>\n",
              "      <td>26</td>\n",
              "      <td>22</td>\n",
              "      <td>33</td>\n",
              "      <td>10</td>\n",
              "      <td>37</td>\n",
              "      <td>33</td>\n",
              "      <td>33</td>\n",
              "      <td>33</td>\n",
              "      <td>10</td>\n",
              "      <td>22</td>\n",
              "      <td>22</td>\n",
              "      <td>22</td>\n",
              "      <td>22</td>\n",
              "      <td>26</td>\n",
              "      <td>22</td>\n",
              "      <td>10</td>\n",
              "      <td>22</td>\n",
              "      <td>22</td>\n",
              "      <td>10</td>\n",
              "      <td>0</td>\n",
              "      <td>0</td>\n",
              "      <td>0</td>\n",
              "      <td>0</td>\n",
              "      <td>0</td>\n",
              "      <td>0</td>\n",
              "      <td>0</td>\n",
              "      <td>0</td>\n",
              "      <td>0</td>\n",
              "      <td>0</td>\n",
              "      <td>0</td>\n",
              "      <td>0</td>\n",
              "      <td>0</td>\n",
              "      <td>0</td>\n",
              "      <td>0</td>\n",
              "      <td>0</td>\n",
              "      <td>...</td>\n",
              "      <td>0</td>\n",
              "      <td>0</td>\n",
              "      <td>0</td>\n",
              "      <td>0</td>\n",
              "      <td>0</td>\n",
              "      <td>0</td>\n",
              "      <td>0</td>\n",
              "      <td>0</td>\n",
              "      <td>0</td>\n",
              "      <td>0</td>\n",
              "      <td>0</td>\n",
              "      <td>0</td>\n",
              "      <td>0</td>\n",
              "      <td>0</td>\n",
              "      <td>0</td>\n",
              "      <td>0</td>\n",
              "      <td>0</td>\n",
              "      <td>0</td>\n",
              "      <td>0</td>\n",
              "      <td>0</td>\n",
              "      <td>0</td>\n",
              "      <td>0</td>\n",
              "      <td>0</td>\n",
              "      <td>0</td>\n",
              "      <td>0</td>\n",
              "      <td>0</td>\n",
              "      <td>0</td>\n",
              "      <td>0</td>\n",
              "      <td>0</td>\n",
              "      <td>0</td>\n",
              "      <td>0</td>\n",
              "      <td>0</td>\n",
              "      <td>0</td>\n",
              "      <td>0</td>\n",
              "      <td>0</td>\n",
              "      <td>0</td>\n",
              "      <td>0</td>\n",
              "      <td>0</td>\n",
              "      <td>0</td>\n",
              "      <td>0</td>\n",
              "    </tr>\n",
              "    <tr>\n",
              "      <th>2</th>\n",
              "      <td>22</td>\n",
              "      <td>22</td>\n",
              "      <td>22</td>\n",
              "      <td>26</td>\n",
              "      <td>10</td>\n",
              "      <td>26</td>\n",
              "      <td>22</td>\n",
              "      <td>4</td>\n",
              "      <td>22</td>\n",
              "      <td>22</td>\n",
              "      <td>5</td>\n",
              "      <td>22</td>\n",
              "      <td>4</td>\n",
              "      <td>22</td>\n",
              "      <td>4</td>\n",
              "      <td>19</td>\n",
              "      <td>27</td>\n",
              "      <td>5</td>\n",
              "      <td>27</td>\n",
              "      <td>5</td>\n",
              "      <td>19</td>\n",
              "      <td>22</td>\n",
              "      <td>10</td>\n",
              "      <td>22</td>\n",
              "      <td>33</td>\n",
              "      <td>10</td>\n",
              "      <td>33</td>\n",
              "      <td>33</td>\n",
              "      <td>33</td>\n",
              "      <td>4</td>\n",
              "      <td>7</td>\n",
              "      <td>33</td>\n",
              "      <td>11</td>\n",
              "      <td>33</td>\n",
              "      <td>33</td>\n",
              "      <td>33</td>\n",
              "      <td>33</td>\n",
              "      <td>33</td>\n",
              "      <td>11</td>\n",
              "      <td>29</td>\n",
              "      <td>...</td>\n",
              "      <td>0</td>\n",
              "      <td>0</td>\n",
              "      <td>0</td>\n",
              "      <td>0</td>\n",
              "      <td>0</td>\n",
              "      <td>0</td>\n",
              "      <td>0</td>\n",
              "      <td>0</td>\n",
              "      <td>0</td>\n",
              "      <td>0</td>\n",
              "      <td>0</td>\n",
              "      <td>0</td>\n",
              "      <td>0</td>\n",
              "      <td>0</td>\n",
              "      <td>0</td>\n",
              "      <td>0</td>\n",
              "      <td>0</td>\n",
              "      <td>0</td>\n",
              "      <td>0</td>\n",
              "      <td>0</td>\n",
              "      <td>0</td>\n",
              "      <td>0</td>\n",
              "      <td>0</td>\n",
              "      <td>0</td>\n",
              "      <td>0</td>\n",
              "      <td>0</td>\n",
              "      <td>0</td>\n",
              "      <td>0</td>\n",
              "      <td>0</td>\n",
              "      <td>0</td>\n",
              "      <td>0</td>\n",
              "      <td>0</td>\n",
              "      <td>0</td>\n",
              "      <td>0</td>\n",
              "      <td>0</td>\n",
              "      <td>0</td>\n",
              "      <td>0</td>\n",
              "      <td>0</td>\n",
              "      <td>0</td>\n",
              "      <td>0</td>\n",
              "    </tr>\n",
              "    <tr>\n",
              "      <th>3</th>\n",
              "      <td>22</td>\n",
              "      <td>33</td>\n",
              "      <td>10</td>\n",
              "      <td>33</td>\n",
              "      <td>33</td>\n",
              "      <td>33</td>\n",
              "      <td>33</td>\n",
              "      <td>11</td>\n",
              "      <td>33</td>\n",
              "      <td>4</td>\n",
              "      <td>19</td>\n",
              "      <td>27</td>\n",
              "      <td>5</td>\n",
              "      <td>36</td>\n",
              "      <td>4</td>\n",
              "      <td>22</td>\n",
              "      <td>22</td>\n",
              "      <td>22</td>\n",
              "      <td>4</td>\n",
              "      <td>19</td>\n",
              "      <td>27</td>\n",
              "      <td>5</td>\n",
              "      <td>26</td>\n",
              "      <td>22</td>\n",
              "      <td>12</td>\n",
              "      <td>22</td>\n",
              "      <td>22</td>\n",
              "      <td>22</td>\n",
              "      <td>22</td>\n",
              "      <td>26</td>\n",
              "      <td>22</td>\n",
              "      <td>12</td>\n",
              "      <td>19</td>\n",
              "      <td>27</td>\n",
              "      <td>5</td>\n",
              "      <td>33</td>\n",
              "      <td>36</td>\n",
              "      <td>33</td>\n",
              "      <td>10</td>\n",
              "      <td>11</td>\n",
              "      <td>...</td>\n",
              "      <td>0</td>\n",
              "      <td>0</td>\n",
              "      <td>0</td>\n",
              "      <td>0</td>\n",
              "      <td>0</td>\n",
              "      <td>0</td>\n",
              "      <td>0</td>\n",
              "      <td>0</td>\n",
              "      <td>0</td>\n",
              "      <td>0</td>\n",
              "      <td>0</td>\n",
              "      <td>0</td>\n",
              "      <td>0</td>\n",
              "      <td>0</td>\n",
              "      <td>0</td>\n",
              "      <td>0</td>\n",
              "      <td>0</td>\n",
              "      <td>0</td>\n",
              "      <td>0</td>\n",
              "      <td>0</td>\n",
              "      <td>0</td>\n",
              "      <td>0</td>\n",
              "      <td>0</td>\n",
              "      <td>0</td>\n",
              "      <td>0</td>\n",
              "      <td>0</td>\n",
              "      <td>0</td>\n",
              "      <td>0</td>\n",
              "      <td>0</td>\n",
              "      <td>0</td>\n",
              "      <td>0</td>\n",
              "      <td>0</td>\n",
              "      <td>0</td>\n",
              "      <td>0</td>\n",
              "      <td>0</td>\n",
              "      <td>0</td>\n",
              "      <td>0</td>\n",
              "      <td>0</td>\n",
              "      <td>0</td>\n",
              "      <td>0</td>\n",
              "    </tr>\n",
              "    <tr>\n",
              "      <th>4</th>\n",
              "      <td>27</td>\n",
              "      <td>19</td>\n",
              "      <td>22</td>\n",
              "      <td>10</td>\n",
              "      <td>22</td>\n",
              "      <td>30</td>\n",
              "      <td>22</td>\n",
              "      <td>20</td>\n",
              "      <td>20</td>\n",
              "      <td>24</td>\n",
              "      <td>32</td>\n",
              "      <td>4</td>\n",
              "      <td>22</td>\n",
              "      <td>4</td>\n",
              "      <td>19</td>\n",
              "      <td>27</td>\n",
              "      <td>5</td>\n",
              "      <td>27</td>\n",
              "      <td>5</td>\n",
              "      <td>26</td>\n",
              "      <td>4</td>\n",
              "      <td>33</td>\n",
              "      <td>11</td>\n",
              "      <td>36</td>\n",
              "      <td>33</td>\n",
              "      <td>33</td>\n",
              "      <td>4</td>\n",
              "      <td>22</td>\n",
              "      <td>4</td>\n",
              "      <td>23</td>\n",
              "      <td>5</td>\n",
              "      <td>4</td>\n",
              "      <td>23</td>\n",
              "      <td>5</td>\n",
              "      <td>23</td>\n",
              "      <td>5</td>\n",
              "      <td>33</td>\n",
              "      <td>33</td>\n",
              "      <td>11</td>\n",
              "      <td>22</td>\n",
              "      <td>...</td>\n",
              "      <td>0</td>\n",
              "      <td>0</td>\n",
              "      <td>0</td>\n",
              "      <td>0</td>\n",
              "      <td>0</td>\n",
              "      <td>0</td>\n",
              "      <td>0</td>\n",
              "      <td>0</td>\n",
              "      <td>0</td>\n",
              "      <td>0</td>\n",
              "      <td>0</td>\n",
              "      <td>0</td>\n",
              "      <td>0</td>\n",
              "      <td>0</td>\n",
              "      <td>0</td>\n",
              "      <td>0</td>\n",
              "      <td>0</td>\n",
              "      <td>0</td>\n",
              "      <td>0</td>\n",
              "      <td>0</td>\n",
              "      <td>0</td>\n",
              "      <td>0</td>\n",
              "      <td>0</td>\n",
              "      <td>0</td>\n",
              "      <td>0</td>\n",
              "      <td>0</td>\n",
              "      <td>0</td>\n",
              "      <td>0</td>\n",
              "      <td>0</td>\n",
              "      <td>0</td>\n",
              "      <td>0</td>\n",
              "      <td>0</td>\n",
              "      <td>0</td>\n",
              "      <td>0</td>\n",
              "      <td>0</td>\n",
              "      <td>0</td>\n",
              "      <td>0</td>\n",
              "      <td>0</td>\n",
              "      <td>0</td>\n",
              "      <td>0</td>\n",
              "    </tr>\n",
              "    <tr>\n",
              "      <th>...</th>\n",
              "      <td>...</td>\n",
              "      <td>...</td>\n",
              "      <td>...</td>\n",
              "      <td>...</td>\n",
              "      <td>...</td>\n",
              "      <td>...</td>\n",
              "      <td>...</td>\n",
              "      <td>...</td>\n",
              "      <td>...</td>\n",
              "      <td>...</td>\n",
              "      <td>...</td>\n",
              "      <td>...</td>\n",
              "      <td>...</td>\n",
              "      <td>...</td>\n",
              "      <td>...</td>\n",
              "      <td>...</td>\n",
              "      <td>...</td>\n",
              "      <td>...</td>\n",
              "      <td>...</td>\n",
              "      <td>...</td>\n",
              "      <td>...</td>\n",
              "      <td>...</td>\n",
              "      <td>...</td>\n",
              "      <td>...</td>\n",
              "      <td>...</td>\n",
              "      <td>...</td>\n",
              "      <td>...</td>\n",
              "      <td>...</td>\n",
              "      <td>...</td>\n",
              "      <td>...</td>\n",
              "      <td>...</td>\n",
              "      <td>...</td>\n",
              "      <td>...</td>\n",
              "      <td>...</td>\n",
              "      <td>...</td>\n",
              "      <td>...</td>\n",
              "      <td>...</td>\n",
              "      <td>...</td>\n",
              "      <td>...</td>\n",
              "      <td>...</td>\n",
              "      <td>...</td>\n",
              "      <td>...</td>\n",
              "      <td>...</td>\n",
              "      <td>...</td>\n",
              "      <td>...</td>\n",
              "      <td>...</td>\n",
              "      <td>...</td>\n",
              "      <td>...</td>\n",
              "      <td>...</td>\n",
              "      <td>...</td>\n",
              "      <td>...</td>\n",
              "      <td>...</td>\n",
              "      <td>...</td>\n",
              "      <td>...</td>\n",
              "      <td>...</td>\n",
              "      <td>...</td>\n",
              "      <td>...</td>\n",
              "      <td>...</td>\n",
              "      <td>...</td>\n",
              "      <td>...</td>\n",
              "      <td>...</td>\n",
              "      <td>...</td>\n",
              "      <td>...</td>\n",
              "      <td>...</td>\n",
              "      <td>...</td>\n",
              "      <td>...</td>\n",
              "      <td>...</td>\n",
              "      <td>...</td>\n",
              "      <td>...</td>\n",
              "      <td>...</td>\n",
              "      <td>...</td>\n",
              "      <td>...</td>\n",
              "      <td>...</td>\n",
              "      <td>...</td>\n",
              "      <td>...</td>\n",
              "      <td>...</td>\n",
              "      <td>...</td>\n",
              "      <td>...</td>\n",
              "      <td>...</td>\n",
              "      <td>...</td>\n",
              "      <td>...</td>\n",
              "    </tr>\n",
              "    <tr>\n",
              "      <th>30269</th>\n",
              "      <td>27</td>\n",
              "      <td>33</td>\n",
              "      <td>10</td>\n",
              "      <td>33</td>\n",
              "      <td>4</td>\n",
              "      <td>7</td>\n",
              "      <td>33</td>\n",
              "      <td>11</td>\n",
              "      <td>33</td>\n",
              "      <td>33</td>\n",
              "      <td>33</td>\n",
              "      <td>37</td>\n",
              "      <td>11</td>\n",
              "      <td>5</td>\n",
              "      <td>33</td>\n",
              "      <td>33</td>\n",
              "      <td>33</td>\n",
              "      <td>33</td>\n",
              "      <td>10</td>\n",
              "      <td>7</td>\n",
              "      <td>33</td>\n",
              "      <td>10</td>\n",
              "      <td>36</td>\n",
              "      <td>33</td>\n",
              "      <td>11</td>\n",
              "      <td>33</td>\n",
              "      <td>33</td>\n",
              "      <td>33</td>\n",
              "      <td>33</td>\n",
              "      <td>33</td>\n",
              "      <td>11</td>\n",
              "      <td>40</td>\n",
              "      <td>10</td>\n",
              "      <td>0</td>\n",
              "      <td>0</td>\n",
              "      <td>0</td>\n",
              "      <td>0</td>\n",
              "      <td>0</td>\n",
              "      <td>0</td>\n",
              "      <td>0</td>\n",
              "      <td>...</td>\n",
              "      <td>0</td>\n",
              "      <td>0</td>\n",
              "      <td>0</td>\n",
              "      <td>0</td>\n",
              "      <td>0</td>\n",
              "      <td>0</td>\n",
              "      <td>0</td>\n",
              "      <td>0</td>\n",
              "      <td>0</td>\n",
              "      <td>0</td>\n",
              "      <td>0</td>\n",
              "      <td>0</td>\n",
              "      <td>0</td>\n",
              "      <td>0</td>\n",
              "      <td>0</td>\n",
              "      <td>0</td>\n",
              "      <td>0</td>\n",
              "      <td>0</td>\n",
              "      <td>0</td>\n",
              "      <td>0</td>\n",
              "      <td>0</td>\n",
              "      <td>0</td>\n",
              "      <td>0</td>\n",
              "      <td>0</td>\n",
              "      <td>0</td>\n",
              "      <td>0</td>\n",
              "      <td>0</td>\n",
              "      <td>0</td>\n",
              "      <td>0</td>\n",
              "      <td>0</td>\n",
              "      <td>0</td>\n",
              "      <td>0</td>\n",
              "      <td>0</td>\n",
              "      <td>0</td>\n",
              "      <td>0</td>\n",
              "      <td>0</td>\n",
              "      <td>0</td>\n",
              "      <td>0</td>\n",
              "      <td>0</td>\n",
              "      <td>0</td>\n",
              "    </tr>\n",
              "    <tr>\n",
              "      <th>30270</th>\n",
              "      <td>22</td>\n",
              "      <td>22</td>\n",
              "      <td>10</td>\n",
              "      <td>19</td>\n",
              "      <td>22</td>\n",
              "      <td>4</td>\n",
              "      <td>22</td>\n",
              "      <td>4</td>\n",
              "      <td>19</td>\n",
              "      <td>27</td>\n",
              "      <td>5</td>\n",
              "      <td>26</td>\n",
              "      <td>33</td>\n",
              "      <td>11</td>\n",
              "      <td>33</td>\n",
              "      <td>33</td>\n",
              "      <td>33</td>\n",
              "      <td>33</td>\n",
              "      <td>33</td>\n",
              "      <td>11</td>\n",
              "      <td>23</td>\n",
              "      <td>5</td>\n",
              "      <td>22</td>\n",
              "      <td>4</td>\n",
              "      <td>33</td>\n",
              "      <td>11</td>\n",
              "      <td>33</td>\n",
              "      <td>33</td>\n",
              "      <td>33</td>\n",
              "      <td>33</td>\n",
              "      <td>33</td>\n",
              "      <td>11</td>\n",
              "      <td>22</td>\n",
              "      <td>4</td>\n",
              "      <td>23</td>\n",
              "      <td>5</td>\n",
              "      <td>4</td>\n",
              "      <td>23</td>\n",
              "      <td>5</td>\n",
              "      <td>23</td>\n",
              "      <td>...</td>\n",
              "      <td>0</td>\n",
              "      <td>0</td>\n",
              "      <td>0</td>\n",
              "      <td>0</td>\n",
              "      <td>0</td>\n",
              "      <td>0</td>\n",
              "      <td>0</td>\n",
              "      <td>0</td>\n",
              "      <td>0</td>\n",
              "      <td>0</td>\n",
              "      <td>0</td>\n",
              "      <td>0</td>\n",
              "      <td>0</td>\n",
              "      <td>0</td>\n",
              "      <td>0</td>\n",
              "      <td>0</td>\n",
              "      <td>0</td>\n",
              "      <td>0</td>\n",
              "      <td>0</td>\n",
              "      <td>0</td>\n",
              "      <td>0</td>\n",
              "      <td>0</td>\n",
              "      <td>0</td>\n",
              "      <td>0</td>\n",
              "      <td>0</td>\n",
              "      <td>0</td>\n",
              "      <td>0</td>\n",
              "      <td>0</td>\n",
              "      <td>0</td>\n",
              "      <td>0</td>\n",
              "      <td>0</td>\n",
              "      <td>0</td>\n",
              "      <td>0</td>\n",
              "      <td>0</td>\n",
              "      <td>0</td>\n",
              "      <td>0</td>\n",
              "      <td>0</td>\n",
              "      <td>0</td>\n",
              "      <td>0</td>\n",
              "      <td>0</td>\n",
              "    </tr>\n",
              "    <tr>\n",
              "      <th>30271</th>\n",
              "      <td>22</td>\n",
              "      <td>35</td>\n",
              "      <td>33</td>\n",
              "      <td>10</td>\n",
              "      <td>33</td>\n",
              "      <td>33</td>\n",
              "      <td>33</td>\n",
              "      <td>33</td>\n",
              "      <td>4</td>\n",
              "      <td>8</td>\n",
              "      <td>22</td>\n",
              "      <td>19</td>\n",
              "      <td>26</td>\n",
              "      <td>8</td>\n",
              "      <td>26</td>\n",
              "      <td>33</td>\n",
              "      <td>11</td>\n",
              "      <td>33</td>\n",
              "      <td>36</td>\n",
              "      <td>33</td>\n",
              "      <td>12</td>\n",
              "      <td>33</td>\n",
              "      <td>33</td>\n",
              "      <td>33</td>\n",
              "      <td>33</td>\n",
              "      <td>33</td>\n",
              "      <td>12</td>\n",
              "      <td>36</td>\n",
              "      <td>11</td>\n",
              "      <td>5</td>\n",
              "      <td>33</td>\n",
              "      <td>10</td>\n",
              "      <td>22</td>\n",
              "      <td>35</td>\n",
              "      <td>0</td>\n",
              "      <td>0</td>\n",
              "      <td>0</td>\n",
              "      <td>0</td>\n",
              "      <td>0</td>\n",
              "      <td>0</td>\n",
              "      <td>...</td>\n",
              "      <td>0</td>\n",
              "      <td>0</td>\n",
              "      <td>0</td>\n",
              "      <td>0</td>\n",
              "      <td>0</td>\n",
              "      <td>0</td>\n",
              "      <td>0</td>\n",
              "      <td>0</td>\n",
              "      <td>0</td>\n",
              "      <td>0</td>\n",
              "      <td>0</td>\n",
              "      <td>0</td>\n",
              "      <td>0</td>\n",
              "      <td>0</td>\n",
              "      <td>0</td>\n",
              "      <td>0</td>\n",
              "      <td>0</td>\n",
              "      <td>0</td>\n",
              "      <td>0</td>\n",
              "      <td>0</td>\n",
              "      <td>0</td>\n",
              "      <td>0</td>\n",
              "      <td>0</td>\n",
              "      <td>0</td>\n",
              "      <td>0</td>\n",
              "      <td>0</td>\n",
              "      <td>0</td>\n",
              "      <td>0</td>\n",
              "      <td>0</td>\n",
              "      <td>0</td>\n",
              "      <td>0</td>\n",
              "      <td>0</td>\n",
              "      <td>0</td>\n",
              "      <td>0</td>\n",
              "      <td>0</td>\n",
              "      <td>0</td>\n",
              "      <td>0</td>\n",
              "      <td>0</td>\n",
              "      <td>0</td>\n",
              "      <td>0</td>\n",
              "    </tr>\n",
              "    <tr>\n",
              "      <th>30272</th>\n",
              "      <td>22</td>\n",
              "      <td>30</td>\n",
              "      <td>22</td>\n",
              "      <td>20</td>\n",
              "      <td>24</td>\n",
              "      <td>32</td>\n",
              "      <td>10</td>\n",
              "      <td>22</td>\n",
              "      <td>22</td>\n",
              "      <td>30</td>\n",
              "      <td>22</td>\n",
              "      <td>20</td>\n",
              "      <td>20</td>\n",
              "      <td>32</td>\n",
              "      <td>4</td>\n",
              "      <td>22</td>\n",
              "      <td>26</td>\n",
              "      <td>5</td>\n",
              "      <td>4</td>\n",
              "      <td>26</td>\n",
              "      <td>22</td>\n",
              "      <td>4</td>\n",
              "      <td>19</td>\n",
              "      <td>27</td>\n",
              "      <td>5</td>\n",
              "      <td>27</td>\n",
              "      <td>22</td>\n",
              "      <td>33</td>\n",
              "      <td>11</td>\n",
              "      <td>33</td>\n",
              "      <td>33</td>\n",
              "      <td>33</td>\n",
              "      <td>33</td>\n",
              "      <td>33</td>\n",
              "      <td>11</td>\n",
              "      <td>5</td>\n",
              "      <td>22</td>\n",
              "      <td>10</td>\n",
              "      <td>4</td>\n",
              "      <td>22</td>\n",
              "      <td>...</td>\n",
              "      <td>0</td>\n",
              "      <td>0</td>\n",
              "      <td>0</td>\n",
              "      <td>0</td>\n",
              "      <td>0</td>\n",
              "      <td>0</td>\n",
              "      <td>0</td>\n",
              "      <td>0</td>\n",
              "      <td>0</td>\n",
              "      <td>0</td>\n",
              "      <td>0</td>\n",
              "      <td>0</td>\n",
              "      <td>0</td>\n",
              "      <td>0</td>\n",
              "      <td>0</td>\n",
              "      <td>0</td>\n",
              "      <td>0</td>\n",
              "      <td>0</td>\n",
              "      <td>0</td>\n",
              "      <td>0</td>\n",
              "      <td>0</td>\n",
              "      <td>0</td>\n",
              "      <td>0</td>\n",
              "      <td>0</td>\n",
              "      <td>0</td>\n",
              "      <td>0</td>\n",
              "      <td>0</td>\n",
              "      <td>0</td>\n",
              "      <td>0</td>\n",
              "      <td>0</td>\n",
              "      <td>0</td>\n",
              "      <td>0</td>\n",
              "      <td>0</td>\n",
              "      <td>0</td>\n",
              "      <td>0</td>\n",
              "      <td>0</td>\n",
              "      <td>0</td>\n",
              "      <td>0</td>\n",
              "      <td>0</td>\n",
              "      <td>0</td>\n",
              "    </tr>\n",
              "    <tr>\n",
              "      <th>30273</th>\n",
              "      <td>22</td>\n",
              "      <td>22</td>\n",
              "      <td>4</td>\n",
              "      <td>26</td>\n",
              "      <td>5</td>\n",
              "      <td>22</td>\n",
              "      <td>33</td>\n",
              "      <td>10</td>\n",
              "      <td>33</td>\n",
              "      <td>33</td>\n",
              "      <td>4</td>\n",
              "      <td>27</td>\n",
              "      <td>22</td>\n",
              "      <td>22</td>\n",
              "      <td>29</td>\n",
              "      <td>4</td>\n",
              "      <td>19</td>\n",
              "      <td>27</td>\n",
              "      <td>5</td>\n",
              "      <td>4</td>\n",
              "      <td>19</td>\n",
              "      <td>27</td>\n",
              "      <td>5</td>\n",
              "      <td>22</td>\n",
              "      <td>4</td>\n",
              "      <td>22</td>\n",
              "      <td>5</td>\n",
              "      <td>22</td>\n",
              "      <td>5</td>\n",
              "      <td>33</td>\n",
              "      <td>33</td>\n",
              "      <td>33</td>\n",
              "      <td>10</td>\n",
              "      <td>21</td>\n",
              "      <td>39</td>\n",
              "      <td>0</td>\n",
              "      <td>0</td>\n",
              "      <td>0</td>\n",
              "      <td>0</td>\n",
              "      <td>0</td>\n",
              "      <td>...</td>\n",
              "      <td>0</td>\n",
              "      <td>0</td>\n",
              "      <td>0</td>\n",
              "      <td>0</td>\n",
              "      <td>0</td>\n",
              "      <td>0</td>\n",
              "      <td>0</td>\n",
              "      <td>0</td>\n",
              "      <td>0</td>\n",
              "      <td>0</td>\n",
              "      <td>0</td>\n",
              "      <td>0</td>\n",
              "      <td>0</td>\n",
              "      <td>0</td>\n",
              "      <td>0</td>\n",
              "      <td>0</td>\n",
              "      <td>0</td>\n",
              "      <td>0</td>\n",
              "      <td>0</td>\n",
              "      <td>0</td>\n",
              "      <td>0</td>\n",
              "      <td>0</td>\n",
              "      <td>0</td>\n",
              "      <td>0</td>\n",
              "      <td>0</td>\n",
              "      <td>0</td>\n",
              "      <td>0</td>\n",
              "      <td>0</td>\n",
              "      <td>0</td>\n",
              "      <td>0</td>\n",
              "      <td>0</td>\n",
              "      <td>0</td>\n",
              "      <td>0</td>\n",
              "      <td>0</td>\n",
              "      <td>0</td>\n",
              "      <td>0</td>\n",
              "      <td>0</td>\n",
              "      <td>0</td>\n",
              "      <td>0</td>\n",
              "      <td>0</td>\n",
              "    </tr>\n",
              "  </tbody>\n",
              "</table>\n",
              "<p>30274 rows × 265 columns</p>\n",
              "</div>"
            ],
            "text/plain": [
              "       0    1    2    3    4    5    6    ...  258  259  260  261  262  263  264\n",
              "0       22   22    4   22    5   22    4  ...    0    0    0    0    0    0    0\n",
              "1       22   22    4   22    5   26   22  ...    0    0    0    0    0    0    0\n",
              "2       22   22   22   26   10   26   22  ...    0    0    0    0    0    0    0\n",
              "3       22   33   10   33   33   33   33  ...    0    0    0    0    0    0    0\n",
              "4       27   19   22   10   22   30   22  ...    0    0    0    0    0    0    0\n",
              "...    ...  ...  ...  ...  ...  ...  ...  ...  ...  ...  ...  ...  ...  ...  ...\n",
              "30269   27   33   10   33    4    7   33  ...    0    0    0    0    0    0    0\n",
              "30270   22   22   10   19   22    4   22  ...    0    0    0    0    0    0    0\n",
              "30271   22   35   33   10   33   33   33  ...    0    0    0    0    0    0    0\n",
              "30272   22   30   22   20   24   32   10  ...    0    0    0    0    0    0    0\n",
              "30273   22   22    4   26    5   22   33  ...    0    0    0    0    0    0    0\n",
              "\n",
              "[30274 rows x 265 columns]"
            ]
          },
          "metadata": {},
          "execution_count": 39
        }
      ]
    },
    {
      "cell_type": "code",
      "metadata": {
        "id": "Ir5slCDRp_wg"
      },
      "source": [
        "class CustomDataset(Dataset):\n",
        "    def __init__(self, imgs, seqs, labels=None, mode='train'):\n",
        "        self.mode = mode\n",
        "        self.imgs = imgs\n",
        "        self.seqs = seqs\n",
        "        if self.mode=='train':\n",
        "            self.labels = labels\n",
        "            \n",
        "    def __len__(self):\n",
        "        return len(self.imgs)\n",
        "    \n",
        "    def __getitem__(self, i):\n",
        "        img = cv2.imread(self.imgs[i]).astype(np.float32)/255\n",
        "        img = np.transpose(img, (2,0,1))\n",
        "        if self.mode == 'train':\n",
        "            return {\n",
        "                'img' : torch.tensor(img, dtype=torch.float32),\n",
        "                'seq' : torch.tensor(self.seqs[i], dtype=torch.long),\n",
        "                'label' : torch.tensor(self.labels[i], dtype=torch.float32)\n",
        "            }\n",
        "        else:\n",
        "            return {\n",
        "                'img' : torch.tensor(img, dtype=torch.float32),\n",
        "                'seq' : torch.tensor(self.seqs[i], dtype=torch.long),\n",
        "            }"
      ],
      "execution_count": 40,
      "outputs": []
    },
    {
      "cell_type": "code",
      "metadata": {
        "id": "GJfwH3Cop_wh",
        "colab": {
          "base_uri": "https://localhost:8080/",
          "height": 358
        },
        "outputId": "8a95d241-895e-4ff7-d497-8fd42f86d238"
      },
      "source": [
        "train_dataset = CustomDataset(train_imgs, train_seqs, train_labels)\n",
        "val_dataset = CustomDataset(val_imgs, val_seqs, val_labels)\n",
        "\n",
        "train_dataloader = torch.utils.data.DataLoader(train_dataset, batch_size=BATCH_SIZE, num_workers=2, shuffle=True)\n",
        "val_dataloader = torch.utils.data.DataLoader(val_dataset, batch_size=BATCH_SIZE, num_workers=2, shuffle=True)"
      ],
      "execution_count": 41,
      "outputs": [
        {
          "output_type": "error",
          "ename": "ValueError",
          "evalue": "ignored",
          "traceback": [
            "\u001b[0;31m---------------------------------------------------------------------------\u001b[0m",
            "\u001b[0;31mValueError\u001b[0m                                Traceback (most recent call last)",
            "\u001b[0;32m<ipython-input-41-f40e5d91e899>\u001b[0m in \u001b[0;36m<module>\u001b[0;34m()\u001b[0m\n\u001b[1;32m      3\u001b[0m \u001b[0;34m\u001b[0m\u001b[0m\n\u001b[1;32m      4\u001b[0m \u001b[0mtrain_dataloader\u001b[0m \u001b[0;34m=\u001b[0m \u001b[0mtorch\u001b[0m\u001b[0;34m.\u001b[0m\u001b[0mutils\u001b[0m\u001b[0;34m.\u001b[0m\u001b[0mdata\u001b[0m\u001b[0;34m.\u001b[0m\u001b[0mDataLoader\u001b[0m\u001b[0;34m(\u001b[0m\u001b[0mtrain_dataset\u001b[0m\u001b[0;34m,\u001b[0m \u001b[0mbatch_size\u001b[0m\u001b[0;34m=\u001b[0m\u001b[0mBATCH_SIZE\u001b[0m\u001b[0;34m,\u001b[0m \u001b[0mnum_workers\u001b[0m\u001b[0;34m=\u001b[0m\u001b[0;36m2\u001b[0m\u001b[0;34m,\u001b[0m \u001b[0mshuffle\u001b[0m\u001b[0;34m=\u001b[0m\u001b[0;32mTrue\u001b[0m\u001b[0;34m)\u001b[0m\u001b[0;34m\u001b[0m\u001b[0;34m\u001b[0m\u001b[0m\n\u001b[0;32m----> 5\u001b[0;31m \u001b[0mval_dataloader\u001b[0m \u001b[0;34m=\u001b[0m \u001b[0mtorch\u001b[0m\u001b[0;34m.\u001b[0m\u001b[0mutils\u001b[0m\u001b[0;34m.\u001b[0m\u001b[0mdata\u001b[0m\u001b[0;34m.\u001b[0m\u001b[0mDataLoader\u001b[0m\u001b[0;34m(\u001b[0m\u001b[0mval_dataset\u001b[0m\u001b[0;34m,\u001b[0m \u001b[0mbatch_size\u001b[0m\u001b[0;34m=\u001b[0m\u001b[0mBATCH_SIZE\u001b[0m\u001b[0;34m,\u001b[0m \u001b[0mnum_workers\u001b[0m\u001b[0;34m=\u001b[0m\u001b[0;36m2\u001b[0m\u001b[0;34m,\u001b[0m \u001b[0mshuffle\u001b[0m\u001b[0;34m=\u001b[0m\u001b[0;32mTrue\u001b[0m\u001b[0;34m)\u001b[0m\u001b[0;34m\u001b[0m\u001b[0;34m\u001b[0m\u001b[0m\n\u001b[0m",
            "\u001b[0;32m/usr/local/lib/python3.7/dist-packages/torch/utils/data/dataloader.py\u001b[0m in \u001b[0;36m__init__\u001b[0;34m(self, dataset, batch_size, shuffle, sampler, batch_sampler, num_workers, collate_fn, pin_memory, drop_last, timeout, worker_init_fn, multiprocessing_context, generator, prefetch_factor, persistent_workers)\u001b[0m\n\u001b[1;32m    268\u001b[0m                     \u001b[0;31m# Cannot statically verify that dataset is Sized\u001b[0m\u001b[0;34m\u001b[0m\u001b[0;34m\u001b[0m\u001b[0;34m\u001b[0m\u001b[0m\n\u001b[1;32m    269\u001b[0m                     \u001b[0;31m# Somewhat related: see NOTE [ Lack of Default `__len__` in Python Abstract Base Classes ]\u001b[0m\u001b[0;34m\u001b[0m\u001b[0;34m\u001b[0m\u001b[0;34m\u001b[0m\u001b[0m\n\u001b[0;32m--> 270\u001b[0;31m                     \u001b[0msampler\u001b[0m \u001b[0;34m=\u001b[0m \u001b[0mRandomSampler\u001b[0m\u001b[0;34m(\u001b[0m\u001b[0mdataset\u001b[0m\u001b[0;34m,\u001b[0m \u001b[0mgenerator\u001b[0m\u001b[0;34m=\u001b[0m\u001b[0mgenerator\u001b[0m\u001b[0;34m)\u001b[0m  \u001b[0;31m# type: ignore[arg-type]\u001b[0m\u001b[0;34m\u001b[0m\u001b[0;34m\u001b[0m\u001b[0m\n\u001b[0m\u001b[1;32m    271\u001b[0m                 \u001b[0;32melse\u001b[0m\u001b[0;34m:\u001b[0m\u001b[0;34m\u001b[0m\u001b[0;34m\u001b[0m\u001b[0m\n\u001b[1;32m    272\u001b[0m                     \u001b[0msampler\u001b[0m \u001b[0;34m=\u001b[0m \u001b[0mSequentialSampler\u001b[0m\u001b[0;34m(\u001b[0m\u001b[0mdataset\u001b[0m\u001b[0;34m)\u001b[0m  \u001b[0;31m# type: ignore[arg-type]\u001b[0m\u001b[0;34m\u001b[0m\u001b[0;34m\u001b[0m\u001b[0m\n",
            "\u001b[0;32m/usr/local/lib/python3.7/dist-packages/torch/utils/data/sampler.py\u001b[0m in \u001b[0;36m__init__\u001b[0;34m(self, data_source, replacement, num_samples, generator)\u001b[0m\n\u001b[1;32m    101\u001b[0m         \u001b[0;32mif\u001b[0m \u001b[0;32mnot\u001b[0m \u001b[0misinstance\u001b[0m\u001b[0;34m(\u001b[0m\u001b[0mself\u001b[0m\u001b[0;34m.\u001b[0m\u001b[0mnum_samples\u001b[0m\u001b[0;34m,\u001b[0m \u001b[0mint\u001b[0m\u001b[0;34m)\u001b[0m \u001b[0;32mor\u001b[0m \u001b[0mself\u001b[0m\u001b[0;34m.\u001b[0m\u001b[0mnum_samples\u001b[0m \u001b[0;34m<=\u001b[0m \u001b[0;36m0\u001b[0m\u001b[0;34m:\u001b[0m\u001b[0;34m\u001b[0m\u001b[0;34m\u001b[0m\u001b[0m\n\u001b[1;32m    102\u001b[0m             raise ValueError(\"num_samples should be a positive integer \"\n\u001b[0;32m--> 103\u001b[0;31m                              \"value, but got num_samples={}\".format(self.num_samples))\n\u001b[0m\u001b[1;32m    104\u001b[0m \u001b[0;34m\u001b[0m\u001b[0m\n\u001b[1;32m    105\u001b[0m     \u001b[0;34m@\u001b[0m\u001b[0mproperty\u001b[0m\u001b[0;34m\u001b[0m\u001b[0;34m\u001b[0m\u001b[0m\n",
            "\u001b[0;31mValueError\u001b[0m: num_samples should be a positive integer value, but got num_samples=0"
          ]
        }
      ]
    },
    {
      "cell_type": "code",
      "metadata": {
        "id": "PmG7KpwYp_wh"
      },
      "source": [
        "sample_batch = next(iter(train_dataloader))"
      ],
      "execution_count": null,
      "outputs": []
    },
    {
      "cell_type": "code",
      "metadata": {
        "id": "UBvSNtEop_wh"
      },
      "source": [
        "sample_batch['img'].size(), sample_batch['seq'].size(), sample_batch['label'].size()"
      ],
      "execution_count": null,
      "outputs": []
    },
    {
      "cell_type": "code",
      "metadata": {
        "id": "laCaLggBp_wh"
      },
      "source": [
        "sample_batch['img'].dtype, sample_batch['seq'].dtype, sample_batch['label'].dtype"
      ],
      "execution_count": null,
      "outputs": []
    },
    {
      "cell_type": "markdown",
      "metadata": {
        "id": "9LO3QV4zgS3s"
      },
      "source": [
        "## 모델\n",
        "\n",
        "ResNet50에 LSTM을 연결한 CNN2RNN 모델"
      ]
    },
    {
      "cell_type": "code",
      "metadata": {
        "id": "dMXn85pXgS3t"
      },
      "source": [
        "class CNN_Encoder(nn.Module):\n",
        "    def __init__(self, embedding_dim, rate):\n",
        "        super(CNN_Encoder, self).__init__()\n",
        "        model = models.resnet101(pretrained=vision_pretrain)\n",
        "        modules = list(model.children())[:-2]\n",
        "        self.feature_extract_model = nn.Sequential(*modules)\n",
        "        self.dropout1 = nn.Dropout(rate)\n",
        "        self.fc = nn.Linear(2048, embedding_dim)\n",
        "        self.dropout2 = nn.Dropout(rate)\n",
        "        \n",
        "    def forward(self, x):\n",
        "        x = self.feature_extract_model(x)\n",
        "        x = x.permute(0,2,3,1)\n",
        "        # x = x.reshape(1728, 10000)\n",
        "        x = x.view(x.size(0), -1, x.size(3))\n",
        "        x = self.dropout1(x)\n",
        "        x = nn.ReLU()(self.fc(x))\n",
        "        x = self.dropout2(x)\n",
        "        return x"
      ],
      "execution_count": 7,
      "outputs": []
    },
    {
      "cell_type": "code",
      "metadata": {
        "id": "XaBJp3vhgS3t"
      },
      "source": [
        "class RNN_Decoder(nn.Module):\n",
        "    def __init__(self, max_len, embedding_dim, num_layers, rate):\n",
        "        super(RNN_Decoder, self).__init__()\n",
        "        self.embedding = nn.Embedding(max_len, embedding_dim)\n",
        "        self.dropout = nn.Dropout(rate)\n",
        "        self.lstm = nn.LSTM(embedding_dim, embedding_dim, num_layers)\n",
        "        self.final_layer = nn.Linear((max_len+100)*embedding_dim, 2)\n",
        "\n",
        "    def forward(self, enc_out, dec_inp):\n",
        "        embedded = self.embedding(dec_inp)\n",
        "        embedded = self.dropout(embedded)\n",
        "        # embedded = embedded[None, ...]\n",
        "        # enc_out = enc_out[None, ...]\n",
        "        embedded = torch.cat([enc_out, embedded], dim = 1)\n",
        "        hidden, _ = self.lstm(embedded)\n",
        "        hidden = hidden.view(hidden.size(0), -1)\n",
        "        output = nn.ReLU()(self.final_layer(hidden))\n",
        "        return output"
      ],
      "execution_count": 8,
      "outputs": []
    },
    {
      "cell_type": "code",
      "metadata": {
        "id": "nzoMWHvIgS3t"
      },
      "source": [
        "class CNN2RNN(nn.Module):\n",
        "    def __init__(self, embedding_dim, max_len, num_layers, rate):\n",
        "        super(CNN2RNN, self).__init__()\n",
        "        self.cnn = CNN_Encoder(embedding_dim, rate)\n",
        "        self.rnn = RNN_Decoder(max_len, embedding_dim, num_layers, rate)\n",
        "        \n",
        "    def forward(self, img, seq):\n",
        "        cnn_output = self.cnn(img)\n",
        "        output = self.rnn(cnn_output, seq)\n",
        "        \n",
        "        return output"
      ],
      "execution_count": 9,
      "outputs": []
    },
    {
      "cell_type": "code",
      "metadata": {
        "id": "D43GBnbPgS3t"
      },
      "source": [
        "model = CNN2RNN(embedding_dim=embedding_dim, max_len=max_len, num_layers=num_layers, rate=dropout_rate)\n",
        "# model = model.to(device)"
      ],
      "execution_count": 26,
      "outputs": []
    },
    {
      "cell_type": "code",
      "metadata": {
        "id": "bgodYQY2SlBV"
      },
      "source": [
        "if torch.cuda.is_available():\n",
        "    model.cuda()"
      ],
      "execution_count": 27,
      "outputs": []
    },
    {
      "cell_type": "markdown",
      "metadata": {
        "id": "OakmnMEygS3u"
      },
      "source": [
        "## 학습 정의"
      ]
    },
    {
      "cell_type": "code",
      "metadata": {
        "id": "5C_GVYbcp_wl"
      },
      "source": [
        "optimizer = torch.optim.Adam(model.parameters(), lr=learning_rate)\n",
        "criterion = nn.L1Loss()"
      ],
      "execution_count": null,
      "outputs": []
    },
    {
      "cell_type": "code",
      "metadata": {
        "id": "2-jW8B5qp_wm"
      },
      "source": [
        "def train_step(batch_item, epoch, batch, training):\n",
        "    img = batch_item['img'].to(device)\n",
        "    seq = batch_item['seq'].to(device)\n",
        "    label = batch_item['label'].to(device)\n",
        "    if training is True:\n",
        "        model.train()\n",
        "        optimizer.zero_grad()\n",
        "        with torch.cuda.amp.autocast():\n",
        "            output = model(img, seq)\n",
        "            loss = criterion(output, label)\n",
        "        loss.backward()\n",
        "        optimizer.step()\n",
        "        \n",
        "        return loss\n",
        "    else:\n",
        "        model.eval()\n",
        "        with torch.no_grad():\n",
        "            output = model(img, seq).to(device)\n",
        "            loss = criterion(output, label)\n",
        "            \n",
        "        return loss\n",
        "\n",
        "# x = np.expand_dims(x, 1)      # if numpy array\n",
        "# tensor = tensor.unsqueeze(1)  # if torch tensor"
      ],
      "execution_count": null,
      "outputs": []
    },
    {
      "cell_type": "markdown",
      "metadata": {
        "id": "cq4xp3MXgS3u"
      },
      "source": [
        "## 학습"
      ]
    },
    {
      "cell_type": "code",
      "metadata": {
        "colab": {
          "base_uri": "https://localhost:8080/"
        },
        "id": "Z53hB3qLp_wm",
        "outputId": "475e4686-ae1e-444f-b796-2c6e99951441"
      },
      "source": [
        "loss_plot, val_loss_plot = [], []\n",
        "\n",
        "for epoch in range(EPOCHS):\n",
        "    total_loss, total_val_loss = 0, 0\n",
        "    \n",
        "    tqdm_dataset = tqdm(enumerate(train_dataloader))\n",
        "    training = True\n",
        "    for batch, batch_item in tqdm_dataset:\n",
        "        batch_loss = train_step(batch_item, epoch, batch, training)\n",
        "        total_loss += batch_loss\n",
        "        \n",
        "        tqdm_dataset.set_postfix({\n",
        "            'Epoch': epoch + 1,\n",
        "            'Loss': '{:06f}'.format(batch_loss.item()),\n",
        "            'Total Loss' : '{:06f}'.format(total_loss/(batch+1))\n",
        "        })\n",
        "    loss_plot.append(total_loss/(batch+1))\n",
        "    \n",
        "    tqdm_dataset = tqdm(enumerate(val_dataloader))\n",
        "    training = False\n",
        "    for batch, batch_item in tqdm_dataset:\n",
        "        batch_loss = train_step(batch_item, epoch, batch, training)\n",
        "        total_val_loss += batch_loss\n",
        "        \n",
        "        tqdm_dataset.set_postfix({\n",
        "            'Epoch': epoch + 1,\n",
        "            'Val Loss': '{:06f}'.format(batch_loss.item()),\n",
        "            'Total Val Loss' : '{:06f}'.format(total_val_loss/(batch+1))\n",
        "        })\n",
        "    val_loss_plot.append(total_val_loss/(batch+1))\n",
        "    \n",
        "    if np.min(val_loss_plot) == val_loss_plot[-1]:\n",
        "        torch.save(model, save_path)"
      ],
      "execution_count": null,
      "outputs": [
        {
          "output_type": "stream",
          "name": "stderr",
          "text": [
            "\r0it [00:00, ?it/s]/usr/local/lib/python3.7/dist-packages/torch/nn/functional.py:718: UserWarning: Named tensors and all their associated APIs are an experimental feature and subject to change. Please do not use them for anything important until they are released as stable. (Triggered internally at  /pytorch/c10/core/TensorImpl.h:1156.)\n",
            "  return torch.max_pool2d(input, kernel_size, stride, padding, dilation, ceil_mode)\n",
            "3594it [27:53,  2.15it/s, Epoch=1, Loss=0.230873, Total Loss=0.344864]\n",
            "200it [01:09,  2.86it/s, Epoch=1, Val Loss=0.276025, Total Val Loss=0.330244]\n",
            "3594it [27:56,  2.14it/s, Epoch=2, Loss=0.219377, Total Loss=0.252827]\n",
            "200it [01:09,  2.87it/s, Epoch=2, Val Loss=0.355551, Total Val Loss=0.274306]\n",
            "3594it [27:55,  2.14it/s, Epoch=3, Loss=0.251320, Total Loss=0.222462]\n",
            "200it [01:09,  2.89it/s, Epoch=3, Val Loss=0.399167, Total Val Loss=0.242183]\n",
            "3594it [27:54,  2.15it/s, Epoch=4, Loss=0.148482, Total Loss=0.203898]\n",
            "200it [01:09,  2.88it/s, Epoch=4, Val Loss=0.147223, Total Val Loss=0.223592]\n",
            "3594it [27:56,  2.14it/s, Epoch=5, Loss=0.243056, Total Loss=0.189087]\n",
            "200it [01:09,  2.88it/s, Epoch=5, Val Loss=0.245895, Total Val Loss=0.215862]\n",
            "3594it [27:54,  2.15it/s, Epoch=6, Loss=0.213494, Total Loss=0.177051]\n",
            "200it [01:09,  2.88it/s, Epoch=6, Val Loss=0.118580, Total Val Loss=0.213438]\n",
            "3594it [27:54,  2.15it/s, Epoch=7, Loss=0.146895, Total Loss=0.166400]\n",
            "200it [01:09,  2.88it/s, Epoch=7, Val Loss=0.183788, Total Val Loss=0.208584]\n",
            "3594it [27:54,  2.15it/s, Epoch=8, Loss=0.159586, Total Loss=0.156838]\n",
            "200it [01:09,  2.88it/s, Epoch=8, Val Loss=0.158742, Total Val Loss=0.192045]\n",
            "3594it [27:54,  2.15it/s, Epoch=9, Loss=0.128899, Total Loss=0.147409]\n",
            "200it [01:09,  2.88it/s, Epoch=9, Val Loss=0.354572, Total Val Loss=0.179860]\n",
            "3594it [27:55,  2.14it/s, Epoch=10, Loss=0.168372, Total Loss=0.139370]\n",
            "200it [01:09,  2.88it/s, Epoch=10, Val Loss=0.196116, Total Val Loss=0.178978]\n",
            "3594it [27:55,  2.15it/s, Epoch=11, Loss=0.105013, Total Loss=0.131071]\n",
            "200it [01:09,  2.88it/s, Epoch=11, Val Loss=0.207942, Total Val Loss=0.171746]\n",
            "3594it [27:56,  2.14it/s, Epoch=12, Loss=0.117282, Total Loss=0.123975]\n",
            "200it [01:09,  2.87it/s, Epoch=12, Val Loss=0.177918, Total Val Loss=0.169464]\n",
            "3594it [27:57,  2.14it/s, Epoch=13, Loss=0.122528, Total Loss=0.117120]\n",
            "200it [01:09,  2.87it/s, Epoch=13, Val Loss=0.312043, Total Val Loss=0.175805]\n",
            "3594it [27:58,  2.14it/s, Epoch=14, Loss=0.132041, Total Loss=0.111638]\n",
            "200it [01:09,  2.87it/s, Epoch=14, Val Loss=0.193013, Total Val Loss=0.165361]\n",
            "3594it [27:57,  2.14it/s, Epoch=15, Loss=0.110266, Total Loss=0.106693]\n",
            "200it [01:09,  2.87it/s, Epoch=15, Val Loss=0.123431, Total Val Loss=0.162182]\n",
            "2913it [23:38,  9.82s/it, Epoch=16, Loss=0.094947, Total Loss=0.101304]"
          ]
        }
      ]
    },
    {
      "cell_type": "markdown",
      "metadata": {
        "id": "ebrp2l5-gS3u"
      },
      "source": [
        "## 학습 결과"
      ]
    },
    {
      "cell_type": "code",
      "metadata": {
        "id": "mn7sFqbSO4ag",
        "colab": {
          "base_uri": "https://localhost:8080/",
          "height": 244
        },
        "outputId": "5c28a10e-bbcc-454b-9f68-6fbd4f5e7d7d"
      },
      "source": [
        "plt.plot(loss_plot, label='train_loss')\n",
        "plt.plot(val_loss_plot, label='val_loss')\n",
        "plt.xlabel('epoch')\n",
        "plt.ylabel('loss(mae)')\n",
        "plt.legend()\n",
        "plt.show()"
      ],
      "execution_count": 3,
      "outputs": [
        {
          "output_type": "error",
          "ename": "NameError",
          "evalue": "ignored",
          "traceback": [
            "\u001b[0;31m---------------------------------------------------------------------------\u001b[0m",
            "\u001b[0;31mNameError\u001b[0m                                 Traceback (most recent call last)",
            "\u001b[0;32m<ipython-input-3-7a5427ecf55c>\u001b[0m in \u001b[0;36m<module>\u001b[0;34m()\u001b[0m\n\u001b[0;32m----> 1\u001b[0;31m \u001b[0mplt\u001b[0m\u001b[0;34m.\u001b[0m\u001b[0mplot\u001b[0m\u001b[0;34m(\u001b[0m\u001b[0mloss_plot\u001b[0m\u001b[0;34m,\u001b[0m \u001b[0mlabel\u001b[0m\u001b[0;34m=\u001b[0m\u001b[0;34m'train_loss'\u001b[0m\u001b[0;34m)\u001b[0m\u001b[0;34m\u001b[0m\u001b[0;34m\u001b[0m\u001b[0m\n\u001b[0m\u001b[1;32m      2\u001b[0m \u001b[0mplt\u001b[0m\u001b[0;34m.\u001b[0m\u001b[0mplot\u001b[0m\u001b[0;34m(\u001b[0m\u001b[0mval_loss_plot\u001b[0m\u001b[0;34m,\u001b[0m \u001b[0mlabel\u001b[0m\u001b[0;34m=\u001b[0m\u001b[0;34m'val_loss'\u001b[0m\u001b[0;34m)\u001b[0m\u001b[0;34m\u001b[0m\u001b[0;34m\u001b[0m\u001b[0m\n\u001b[1;32m      3\u001b[0m \u001b[0mplt\u001b[0m\u001b[0;34m.\u001b[0m\u001b[0mxlabel\u001b[0m\u001b[0;34m(\u001b[0m\u001b[0;34m'epoch'\u001b[0m\u001b[0;34m)\u001b[0m\u001b[0;34m\u001b[0m\u001b[0;34m\u001b[0m\u001b[0m\n\u001b[1;32m      4\u001b[0m \u001b[0mplt\u001b[0m\u001b[0;34m.\u001b[0m\u001b[0mylabel\u001b[0m\u001b[0;34m(\u001b[0m\u001b[0;34m'loss(mae)'\u001b[0m\u001b[0;34m)\u001b[0m\u001b[0;34m\u001b[0m\u001b[0;34m\u001b[0m\u001b[0m\n\u001b[1;32m      5\u001b[0m \u001b[0mplt\u001b[0m\u001b[0;34m.\u001b[0m\u001b[0mlegend\u001b[0m\u001b[0;34m(\u001b[0m\u001b[0;34m)\u001b[0m\u001b[0;34m\u001b[0m\u001b[0;34m\u001b[0m\u001b[0m\n",
            "\u001b[0;31mNameError\u001b[0m: name 'loss_plot' is not defined"
          ]
        }
      ]
    },
    {
      "cell_type": "markdown",
      "metadata": {
        "id": "o8PTJmb-gS3v"
      },
      "source": [
        "## 모델 복원"
      ]
    },
    {
      "cell_type": "code",
      "metadata": {
        "id": "-RfhW8gngS3v"
      },
      "source": [
        "model = torch.load(save_path)"
      ],
      "execution_count": 28,
      "outputs": []
    },
    {
      "cell_type": "markdown",
      "metadata": {
        "id": "guoRLQbFgS3v"
      },
      "source": [
        "## 테스트 데이터 및 제출 양식 로드"
      ]
    },
    {
      "cell_type": "code",
      "metadata": {
        "id": "vwL5qvAZgS3v"
      },
      "source": [
        "test = pd.read_csv('/content/gdrive/MyDrive/Dataset/Samsung_AI_Challenge/test.csv')\n",
        "submission = pd.read_csv('/content/gdrive/MyDrive/Dataset/Samsung_AI_Challenge/sample_submission.csv')"
      ],
      "execution_count": 29,
      "outputs": []
    },
    {
      "cell_type": "markdown",
      "metadata": {
        "id": "yqEySEmugS3w"
      },
      "source": [
        "## 테스트 데이터 전처리"
      ]
    },
    {
      "cell_type": "code",
      "metadata": {
        "id": "I5O9m4EpaalN"
      },
      "source": [
        "os.mkdir('/content/test_imgs')"
      ],
      "execution_count": 31,
      "outputs": []
    },
    {
      "cell_type": "code",
      "metadata": {
        "colab": {
          "base_uri": "https://localhost:8080/"
        },
        "id": "TREi-EaegS3w",
        "outputId": "2cb180b8-487a-4b0f-c2c3-d7b61586123b"
      },
      "source": [
        "for idx, row in tqdm(test.iterrows()):\n",
        "    file = row['uid']\n",
        "    smiles = row['SMILES']\n",
        "    m = Chem.MolFromSmiles(smiles)\n",
        "    if m != None:\n",
        "        img = Draw.MolToImage(m, size=(300,300))\n",
        "        img.save(f'/content/test_imgs/{file}.png')"
      ],
      "execution_count": 32,
      "outputs": [
        {
          "output_type": "stream",
          "name": "stderr",
          "text": [
            "602it [00:08, 74.18it/s]\n"
          ]
        }
      ]
    },
    {
      "cell_type": "markdown",
      "metadata": {
        "id": "P8IaoidRgS3w"
      },
      "source": [
        "## 테스트 데이터셋"
      ]
    },
    {
      "cell_type": "code",
      "metadata": {
        "colab": {
          "base_uri": "https://localhost:8080/"
        },
        "id": "WDYYS8ZQgS3w",
        "outputId": "1f3f2d4d-246c-47cd-c423-4894f1d2bc5e"
      },
      "source": [
        "test_seqs = tokenizer.txt2seq(test.SMILES)\n",
        "test_imgs = ('/content/test_imgs/'+test.uid+'.png').to_numpy()"
      ],
      "execution_count": 33,
      "outputs": [
        {
          "output_type": "stream",
          "name": "stderr",
          "text": [
            "100%|██████████| 602/602 [00:00<00:00, 70904.24it/s]\n"
          ]
        }
      ]
    },
    {
      "cell_type": "code",
      "metadata": {
        "id": "iC-Wh-CQgS3w"
      },
      "source": [
        "test_dataset = CustomDataset(imgs=test_imgs, seqs=test_seqs, labels=None, mode='test')\n",
        "test_dataloader = torch.utils.data.DataLoader(test_dataset, batch_size=BATCH_SIZE, num_workers=2)"
      ],
      "execution_count": 42,
      "outputs": []
    },
    {
      "cell_type": "markdown",
      "metadata": {
        "id": "IepJJmOAgS3x"
      },
      "source": [
        "## 추론 및 제출"
      ]
    },
    {
      "cell_type": "code",
      "metadata": {
        "id": "7rVMtJVogS3x"
      },
      "source": [
        "def predict(dataset):\n",
        "    model.eval()\n",
        "    result = []\n",
        "    for batch_item in dataset:\n",
        "        img = batch_item['img'].to(device)\n",
        "        seq = batch_item['seq'].to(device)\n",
        "        with torch.no_grad():\n",
        "            output = model(img, seq)\n",
        "        output = output.cpu().numpy()\n",
        "        gap = output[:, 0] - output[:, 1]\n",
        "        gap = np.where(gap<0, 0, gap)\n",
        "        result.extend(list(gap))\n",
        "        \n",
        "    return result"
      ],
      "execution_count": 43,
      "outputs": []
    },
    {
      "cell_type": "code",
      "metadata": {
        "id": "TujAJnlrgS3x",
        "colab": {
          "base_uri": "https://localhost:8080/"
        },
        "outputId": "96d3c1c6-4a6b-4f61-e854-6c20457ab3cc"
      },
      "source": [
        "pred = predict(test_dataloader)"
      ],
      "execution_count": 44,
      "outputs": [
        {
          "output_type": "stream",
          "name": "stderr",
          "text": [
            "/usr/local/lib/python3.7/dist-packages/torch/nn/functional.py:718: UserWarning: Named tensors and all their associated APIs are an experimental feature and subject to change. Please do not use them for anything important until they are released as stable. (Triggered internally at  /pytorch/c10/core/TensorImpl.h:1156.)\n",
            "  return torch.max_pool2d(input, kernel_size, stride, padding, dilation, ceil_mode)\n"
          ]
        }
      ]
    },
    {
      "cell_type": "code",
      "metadata": {
        "id": "Cg3uOxhNgS3x"
      },
      "source": [
        "submission['ST1_GAP(eV)'] = pred"
      ],
      "execution_count": 45,
      "outputs": []
    },
    {
      "cell_type": "code",
      "metadata": {
        "colab": {
          "base_uri": "https://localhost:8080/",
          "height": 419
        },
        "id": "BH4TvJE8gS3x",
        "outputId": "e6013003-f060-42d4-9fdf-3930fa122583"
      },
      "source": [
        "submission"
      ],
      "execution_count": null,
      "outputs": [
        {
          "output_type": "execute_result",
          "data": {
            "text/html": [
              "<div>\n",
              "<style scoped>\n",
              "    .dataframe tbody tr th:only-of-type {\n",
              "        vertical-align: middle;\n",
              "    }\n",
              "\n",
              "    .dataframe tbody tr th {\n",
              "        vertical-align: top;\n",
              "    }\n",
              "\n",
              "    .dataframe thead th {\n",
              "        text-align: right;\n",
              "    }\n",
              "</style>\n",
              "<table border=\"1\" class=\"dataframe\">\n",
              "  <thead>\n",
              "    <tr style=\"text-align: right;\">\n",
              "      <th></th>\n",
              "      <th>uid</th>\n",
              "      <th>ST1_GAP(eV)</th>\n",
              "    </tr>\n",
              "  </thead>\n",
              "  <tbody>\n",
              "    <tr>\n",
              "      <th>0</th>\n",
              "      <td>test_0</td>\n",
              "      <td>0.976529</td>\n",
              "    </tr>\n",
              "    <tr>\n",
              "      <th>1</th>\n",
              "      <td>test_1</td>\n",
              "      <td>2.122211</td>\n",
              "    </tr>\n",
              "    <tr>\n",
              "      <th>2</th>\n",
              "      <td>test_2</td>\n",
              "      <td>0.988469</td>\n",
              "    </tr>\n",
              "    <tr>\n",
              "      <th>3</th>\n",
              "      <td>test_3</td>\n",
              "      <td>0.706192</td>\n",
              "    </tr>\n",
              "    <tr>\n",
              "      <th>4</th>\n",
              "      <td>test_4</td>\n",
              "      <td>1.113781</td>\n",
              "    </tr>\n",
              "    <tr>\n",
              "      <th>...</th>\n",
              "      <td>...</td>\n",
              "      <td>...</td>\n",
              "    </tr>\n",
              "    <tr>\n",
              "      <th>597</th>\n",
              "      <td>test_597</td>\n",
              "      <td>0.302718</td>\n",
              "    </tr>\n",
              "    <tr>\n",
              "      <th>598</th>\n",
              "      <td>test_598</td>\n",
              "      <td>0.125923</td>\n",
              "    </tr>\n",
              "    <tr>\n",
              "      <th>599</th>\n",
              "      <td>test_599</td>\n",
              "      <td>0.211123</td>\n",
              "    </tr>\n",
              "    <tr>\n",
              "      <th>600</th>\n",
              "      <td>test_600</td>\n",
              "      <td>0.738367</td>\n",
              "    </tr>\n",
              "    <tr>\n",
              "      <th>601</th>\n",
              "      <td>test_601</td>\n",
              "      <td>0.623363</td>\n",
              "    </tr>\n",
              "  </tbody>\n",
              "</table>\n",
              "<p>602 rows × 2 columns</p>\n",
              "</div>"
            ],
            "text/plain": [
              "          uid  ST1_GAP(eV)\n",
              "0      test_0     0.976529\n",
              "1      test_1     2.122211\n",
              "2      test_2     0.988469\n",
              "3      test_3     0.706192\n",
              "4      test_4     1.113781\n",
              "..        ...          ...\n",
              "597  test_597     0.302718\n",
              "598  test_598     0.125923\n",
              "599  test_599     0.211123\n",
              "600  test_600     0.738367\n",
              "601  test_601     0.623363\n",
              "\n",
              "[602 rows x 2 columns]"
            ]
          },
          "metadata": {},
          "execution_count": 81
        }
      ]
    },
    {
      "cell_type": "code",
      "metadata": {
        "id": "JsA_Is1BgS3x"
      },
      "source": [
        "submission.to_csv('/content/dacon_baseline_resnet101_embeddingdim_128_augmentation.csv', index=False)"
      ],
      "execution_count": 46,
      "outputs": []
    },
    {
      "cell_type": "markdown",
      "metadata": {
        "id": "_App-e-dgS3x"
      },
      "source": [
        "제출 API 사용법 => https://dacon.io/forum/403557"
      ]
    },
    {
      "cell_type": "code",
      "metadata": {
        "id": "mrGZutWUgS3y",
        "outputId": "853ffc51-eb89-4b94-f6f5-db5a2d90f252"
      },
      "source": [
        "from dacon_submit_api import dacon_submit_api \n",
        "\n",
        "result = dacon_submit_api.post_submission_file(\n",
        "    'dacon_baseline.csv', \n",
        "    '개인 Token', \n",
        "    '235789', \n",
        "    'DACONIO', \n",
        "    'DACON_Baseline'\n",
        ")"
      ],
      "execution_count": null,
      "outputs": [
        {
          "name": "stdout",
          "output_type": "stream",
          "text": [
            "{'isSubmitted': True, 'detail': 'Success'}\n"
          ]
        }
      ]
    },
    {
      "cell_type": "markdown",
      "metadata": {
        "id": "oPmijCnVgS3y"
      },
      "source": [
        "# Public LB Score : 0.1871130054"
      ]
    }
  ]
}