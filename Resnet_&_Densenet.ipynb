{
  "nbformat": 4,
  "nbformat_minor": 0,
  "metadata": {
    "colab": {
      "name": "Resnet & Densenet",
      "provenance": [],
      "collapsed_sections": [],
      "authorship_tag": "ABX9TyOcajR2zBrs5Q2TDMtR9yeB",
      "include_colab_link": true
    },
    "kernelspec": {
      "name": "python3",
      "display_name": "Python 3"
    },
    "language_info": {
      "name": "python"
    },
    "accelerator": "GPU"
  },
  "cells": [
    {
      "cell_type": "markdown",
      "metadata": {
        "id": "view-in-github",
        "colab_type": "text"
      },
      "source": [
        "<a href=\"https://colab.research.google.com/github/templar137/AI_project/blob/main/Resnet_%26_Densenet.ipynb\" target=\"_parent\"><img src=\"https://colab.research.google.com/assets/colab-badge.svg\" alt=\"Open In Colab\"/></a>"
      ]
    },
    {
      "cell_type": "code",
      "metadata": {
        "id": "ka0U0TdfWnGw"
      },
      "source": [
        "#!pip install -q tensorflow-gpu==2.0.0-rc1\n",
        "import tensorflow as tf"
      ],
      "execution_count": null,
      "outputs": []
    },
    {
      "cell_type": "code",
      "metadata": {
        "id": "Vny7iV1MUcvk"
      },
      "source": [
        "import matplotlib.pyplot as plt"
      ],
      "execution_count": null,
      "outputs": []
    },
    {
      "cell_type": "code",
      "metadata": {
        "id": "kXd3zl0pWsoJ"
      },
      "source": [
        "(x_train, y_train), (x_test, y_test) = tf.keras.datasets.cifar10.load_data()\n",
        "x_train, x_test = x_train / 255.0, x_test / 255.0"
      ],
      "execution_count": null,
      "outputs": []
    },
    {
      "cell_type": "code",
      "metadata": {
        "id": "MWS4dGAhW1HX"
      },
      "source": [
        "from tensorflow import keras\n",
        "from tensorflow.keras import layers"
      ],
      "execution_count": null,
      "outputs": []
    },
    {
      "cell_type": "markdown",
      "metadata": {
        "id": "B2du5SBPj22e"
      },
      "source": [
        "1. Residual Block를 적용하지 않은 다수의 layer를 사용한 CNN"
      ]
    },
    {
      "cell_type": "code",
      "metadata": {
        "colab": {
          "base_uri": "https://localhost:8080/"
        },
        "id": "3q94OPIaWwjr",
        "outputId": "3dfc79e5-5b67-42f6-d880-380c3280b2a2"
      },
      "source": [
        "inputs = keras.Input(shape=(32, 32, 3))\n",
        "x = inputs\n",
        "#x = layers.MaxPooling2D(2)(x)\n",
        "x = layers.Conv2D(128, 3, activation='relu', padding=\"same\")(x)\n",
        "x = layers.Conv2D(128, 3, activation='relu', padding=\"same\")(x)\n",
        "x = layers.Conv2D(128, 3, activation='relu', padding=\"same\")(x)\n",
        "x = layers.Conv2D(128, 3, activation='relu', padding=\"same\")(x)\n",
        "x = layers.Conv2D(128, 3, activation='relu', padding=\"same\")(x)\n",
        "x = layers.Conv2D(128, 3, activation='relu', padding=\"same\")(x)\n",
        "x = layers.Conv2D(128, 3, activation='relu', padding=\"same\")(x)\n",
        "x = layers.Conv2D(128, 3, activation='relu', padding=\"same\")(x)\n",
        "x = layers.MaxPooling2D(2)(x)\n",
        "\n",
        "x = layers.Flatten()(x)\n",
        "x = layers.Dense(128)(x)\n",
        "x = layers.Dense(128)(x)\n",
        "x = layers.Dense(10, activation='softmax')(x)\n",
        "outputs = x\n",
        "\n",
        "model = keras.Model(inputs, outputs)\n",
        "model.summary()"
      ],
      "execution_count": null,
      "outputs": [
        {
          "output_type": "stream",
          "text": [
            "Model: \"model\"\n",
            "_________________________________________________________________\n",
            "Layer (type)                 Output Shape              Param #   \n",
            "=================================================================\n",
            "input_1 (InputLayer)         [(None, 32, 32, 3)]       0         \n",
            "_________________________________________________________________\n",
            "conv2d (Conv2D)              (None, 32, 32, 128)       3584      \n",
            "_________________________________________________________________\n",
            "conv2d_1 (Conv2D)            (None, 32, 32, 128)       147584    \n",
            "_________________________________________________________________\n",
            "conv2d_2 (Conv2D)            (None, 32, 32, 128)       147584    \n",
            "_________________________________________________________________\n",
            "conv2d_3 (Conv2D)            (None, 32, 32, 128)       147584    \n",
            "_________________________________________________________________\n",
            "conv2d_4 (Conv2D)            (None, 32, 32, 128)       147584    \n",
            "_________________________________________________________________\n",
            "conv2d_5 (Conv2D)            (None, 32, 32, 128)       147584    \n",
            "_________________________________________________________________\n",
            "conv2d_6 (Conv2D)            (None, 32, 32, 128)       147584    \n",
            "_________________________________________________________________\n",
            "conv2d_7 (Conv2D)            (None, 32, 32, 128)       147584    \n",
            "_________________________________________________________________\n",
            "max_pooling2d (MaxPooling2D) (None, 16, 16, 128)       0         \n",
            "_________________________________________________________________\n",
            "flatten (Flatten)            (None, 32768)             0         \n",
            "_________________________________________________________________\n",
            "dense (Dense)                (None, 128)               4194432   \n",
            "_________________________________________________________________\n",
            "dense_1 (Dense)              (None, 128)               16512     \n",
            "_________________________________________________________________\n",
            "dense_2 (Dense)              (None, 10)                1290      \n",
            "=================================================================\n",
            "Total params: 5,248,906\n",
            "Trainable params: 5,248,906\n",
            "Non-trainable params: 0\n",
            "_________________________________________________________________\n"
          ],
          "name": "stdout"
        }
      ]
    },
    {
      "cell_type": "code",
      "metadata": {
        "colab": {
          "base_uri": "https://localhost:8080/"
        },
        "id": "sggTonRjW2tV",
        "outputId": "60193b05-16d5-4d5f-819e-bae24fcd56b6"
      },
      "source": [
        "model.compile(optimizer='adam',\n",
        "              loss='sparse_categorical_crossentropy',\n",
        "              metrics=['accuracy'])\n",
        "model.fit(x_train, y_train, epochs=5)\n",
        "model.evaluate(x_test,  y_test, verbose=2)"
      ],
      "execution_count": null,
      "outputs": [
        {
          "output_type": "stream",
          "text": [
            "Epoch 1/5\n",
            "1563/1563 [==============================] - 137s 68ms/step - loss: 2.3120 - accuracy: 0.0987\n",
            "Epoch 2/5\n",
            "1563/1563 [==============================] - 107s 69ms/step - loss: 2.3035 - accuracy: 0.1004\n",
            "Epoch 3/5\n",
            "1563/1563 [==============================] - 106s 68ms/step - loss: 2.3033 - accuracy: 0.0981\n",
            "Epoch 4/5\n",
            "1563/1563 [==============================] - 107s 69ms/step - loss: 2.3031 - accuracy: 0.1021\n",
            "Epoch 5/5\n",
            "1563/1563 [==============================] - 106s 68ms/step - loss: 2.3031 - accuracy: 0.0996\n",
            "313/313 - 6s - loss: 2.3028 - accuracy: 0.1000\n"
          ],
          "name": "stdout"
        },
        {
          "output_type": "execute_result",
          "data": {
            "text/plain": [
              "[2.302828073501587, 0.10000000149011612]"
            ]
          },
          "metadata": {
            "tags": []
          },
          "execution_count": 6
        }
      ]
    },
    {
      "cell_type": "markdown",
      "metadata": {
        "id": "kREAzRtEdsj3"
      },
      "source": [
        "2-1 max-pooling 없는 Resnet"
      ]
    },
    {
      "cell_type": "code",
      "metadata": {
        "colab": {
          "base_uri": "https://localhost:8080/"
        },
        "id": "o7XIhg_PXyS0",
        "outputId": "2abdbb37-b244-4aad-8e3f-33c59d1c6a87"
      },
      "source": [
        "inputs = keras.Input(shape=(32, 32, 3))\n",
        "x = inputs\n",
        "#x = layers.MaxPooling2D(2)(x)\n",
        "_x = layers.Conv2D(128, 3, activation='relu', padding=\"same\")(x)\n",
        "_x = layers.Conv2D(128, 3, activation='relu', padding=\"same\")(_x)\n",
        "x = _x\n",
        "_x = layers.Conv2D(128, 3, activation='relu', padding=\"same\")(x)\n",
        "_x = layers.Conv2D(128, 3, activation='relu', padding=\"same\")(_x)\n",
        "x = x + _x\n",
        "_x = layers.Conv2D(128, 3, activation='relu', padding=\"same\")(x)\n",
        "_x = layers.Conv2D(128, 3, activation='relu', padding=\"same\")(_x)\n",
        "x = x + _x\n",
        "_x = layers.Conv2D(128, 3, activation='relu', padding=\"same\")(x)\n",
        "_x = layers.Conv2D(128, 3, activation='relu', padding=\"same\")(_x)\n",
        "x = x + _x\n",
        "x = layers.MaxPooling2D(2)(x)\n",
        "\n",
        "x = layers.Flatten()(x)\n",
        "x = layers.Dense(128)(x)\n",
        "x = layers.Dense(128)(x)\n",
        "x = layers.Dense(10, activation='softmax')(x)\n",
        "outputs = x\n",
        "\n",
        "model = keras.Model(inputs, outputs)\n",
        "model.summary()"
      ],
      "execution_count": null,
      "outputs": [
        {
          "output_type": "stream",
          "text": [
            "Model: \"model\"\n",
            "__________________________________________________________________________________________________\n",
            "Layer (type)                    Output Shape         Param #     Connected to                     \n",
            "==================================================================================================\n",
            "input_1 (InputLayer)            [(None, 32, 32, 3)]  0                                            \n",
            "__________________________________________________________________________________________________\n",
            "conv2d (Conv2D)                 (None, 32, 32, 128)  3584        input_1[0][0]                    \n",
            "__________________________________________________________________________________________________\n",
            "conv2d_1 (Conv2D)               (None, 32, 32, 128)  147584      conv2d[0][0]                     \n",
            "__________________________________________________________________________________________________\n",
            "conv2d_2 (Conv2D)               (None, 32, 32, 128)  147584      conv2d_1[0][0]                   \n",
            "__________________________________________________________________________________________________\n",
            "conv2d_3 (Conv2D)               (None, 32, 32, 128)  147584      conv2d_2[0][0]                   \n",
            "__________________________________________________________________________________________________\n",
            "tf.__operators__.add (TFOpLambd (None, 32, 32, 128)  0           conv2d_1[0][0]                   \n",
            "                                                                 conv2d_3[0][0]                   \n",
            "__________________________________________________________________________________________________\n",
            "conv2d_4 (Conv2D)               (None, 32, 32, 128)  147584      tf.__operators__.add[0][0]       \n",
            "__________________________________________________________________________________________________\n",
            "conv2d_5 (Conv2D)               (None, 32, 32, 128)  147584      conv2d_4[0][0]                   \n",
            "__________________________________________________________________________________________________\n",
            "tf.__operators__.add_1 (TFOpLam (None, 32, 32, 128)  0           tf.__operators__.add[0][0]       \n",
            "                                                                 conv2d_5[0][0]                   \n",
            "__________________________________________________________________________________________________\n",
            "conv2d_6 (Conv2D)               (None, 32, 32, 128)  147584      tf.__operators__.add_1[0][0]     \n",
            "__________________________________________________________________________________________________\n",
            "conv2d_7 (Conv2D)               (None, 32, 32, 128)  147584      conv2d_6[0][0]                   \n",
            "__________________________________________________________________________________________________\n",
            "tf.__operators__.add_2 (TFOpLam (None, 32, 32, 128)  0           tf.__operators__.add_1[0][0]     \n",
            "                                                                 conv2d_7[0][0]                   \n",
            "__________________________________________________________________________________________________\n",
            "max_pooling2d (MaxPooling2D)    (None, 16, 16, 128)  0           tf.__operators__.add_2[0][0]     \n",
            "__________________________________________________________________________________________________\n",
            "flatten (Flatten)               (None, 32768)        0           max_pooling2d[0][0]              \n",
            "__________________________________________________________________________________________________\n",
            "dense (Dense)                   (None, 128)          4194432     flatten[0][0]                    \n",
            "__________________________________________________________________________________________________\n",
            "dense_1 (Dense)                 (None, 128)          16512       dense[0][0]                      \n",
            "__________________________________________________________________________________________________\n",
            "dense_2 (Dense)                 (None, 10)           1290        dense_1[0][0]                    \n",
            "==================================================================================================\n",
            "Total params: 5,248,906\n",
            "Trainable params: 5,248,906\n",
            "Non-trainable params: 0\n",
            "__________________________________________________________________________________________________\n"
          ],
          "name": "stdout"
        }
      ]
    },
    {
      "cell_type": "code",
      "metadata": {
        "colab": {
          "base_uri": "https://localhost:8080/"
        },
        "id": "69wqxWnNZlw9",
        "outputId": "09ae3217-2e85-4718-e132-97207f3a0c45"
      },
      "source": [
        "model.compile(optimizer='adam',\n",
        "              loss='sparse_categorical_crossentropy',\n",
        "              metrics=['accuracy'])\n",
        "history = model.fit(x_train, y_train, validation_data=(x_test,y_test), epochs=15)"
      ],
      "execution_count": null,
      "outputs": [
        {
          "output_type": "stream",
          "text": [
            "Epoch 1/15\n",
            "1563/1563 [==============================] - 120s 75ms/step - loss: 2.0035 - accuracy: 0.3146 - val_loss: 1.3980 - val_accuracy: 0.4979\n",
            "Epoch 2/15\n",
            "1563/1563 [==============================] - 116s 74ms/step - loss: 1.2984 - accuracy: 0.5381 - val_loss: 1.1370 - val_accuracy: 0.6001\n",
            "Epoch 3/15\n",
            "1563/1563 [==============================] - 116s 74ms/step - loss: 1.0870 - accuracy: 0.6204 - val_loss: 1.0984 - val_accuracy: 0.6165\n",
            "Epoch 4/15\n",
            "1133/1563 [====================>.........] - ETA: 30s - loss: 0.9770 - accuracy: 0.6597"
          ],
          "name": "stdout"
        }
      ]
    },
    {
      "cell_type": "code",
      "metadata": {
        "id": "K8yYtmtPr3Fx"
      },
      "source": [
        "acc = history.history['accuracy']\n",
        "test_acc = history.history['val_accuracy']\n",
        "epochs = range(1, len(acc) + 1)\n",
        "plt.plot(epochs, acc, label = 'Training acc')\n",
        "plt.plot(epochs, test_acc, label = 'Tset acc')\n",
        "plt.legend\n",
        "plt.figure\n",
        "plt.show()"
      ],
      "execution_count": null,
      "outputs": []
    },
    {
      "cell_type": "markdown",
      "metadata": {
        "id": "M95sPjfndiyh"
      },
      "source": [
        "3. Densenet 실습\n"
      ]
    },
    {
      "cell_type": "code",
      "metadata": {
        "colab": {
          "base_uri": "https://localhost:8080/"
        },
        "id": "Ss6UD51McA6W",
        "outputId": "03d0328c-a589-46d3-9da8-7e899e14a9aa"
      },
      "source": [
        "inputs = keras.Input(shape=(32, 32, 3))\n",
        "x = inputs\n",
        "#x = layers.MaxPooling2D(2)(x)\n",
        "_x = layers.Conv2D(64, 1, activation='relu', padding=\"same\")(x)\n",
        "_x = layers.Conv2D(64, 3, activation='relu', padding=\"same\")(_x)\n",
        "x = _x\n",
        "x = layers.Conv2D(128, 1, activation='relu', padding=\"same\")(x)\n",
        "x = layers.AveragePooling2D(2)(x)\n",
        "\n",
        "_x = layers.Conv2D(128, 1, activation='relu', padding=\"same\")(x)\n",
        "_x = layers.Conv2D(128, 3, activation='relu', padding=\"same\")(_x)\n",
        "x = x + _x\n",
        "_x = layers.Conv2D(128, 1, activation='relu', padding=\"same\")(x)\n",
        "_x = layers.Conv2D(128, 3, activation='relu', padding=\"same\")(_x)\n",
        "x = x + _x\n",
        "x = layers.Conv2D(256, 1, activation='relu', padding=\"same\")(x)\n",
        "x = layers.AveragePooling2D(2)(x)\n",
        "\n",
        "\n",
        "_x = layers.Conv2D(256, 1, activation='relu', padding=\"same\")(x)\n",
        "_x = layers.Conv2D(256, 3, activation='relu', padding=\"same\")(_x)\n",
        "x = x + _x\n",
        "_x = layers.Conv2D(256, 1, activation='relu', padding=\"same\")(x)\n",
        "_x = layers.Conv2D(256, 3, activation='relu', padding=\"same\")(_x)\n",
        "x = x + _x\n",
        "_x = layers.Conv2D(256, 1, activation='relu', padding=\"same\")(x)\n",
        "_x = layers.Conv2D(256, 3, activation='relu', padding=\"same\")(_x)\n",
        "x = x + _x\n",
        "x = layers.Conv2D(512, 1, activation='relu', padding=\"same\")(x)\n",
        "x = layers.AveragePooling2D(2)(x)\n",
        "\n",
        "\n",
        "_x = layers.Conv2D(512, 1, activation='relu', padding=\"same\")(x)\n",
        "_x = layers.Conv2D(512, 3, activation='relu', padding=\"same\")(_x)\n",
        "x = x + _x\n",
        "_x = layers.Conv2D(512, 1, activation='relu', padding=\"same\")(x)\n",
        "_x = layers.Conv2D(512, 3, activation='relu', padding=\"same\")(_x)\n",
        "x = x + _x\n",
        "_x = layers.Conv2D(512, 1, activation='relu', padding=\"same\")(x)\n",
        "_x = layers.Conv2D(512, 3, activation='relu', padding=\"same\")(_x)\n",
        "x = x + _x\n",
        "_x = layers.Conv2D(512, 1, activation='relu', padding=\"same\")(x)\n",
        "_x = layers.Conv2D(512, 3, activation='relu', padding=\"same\")(_x)\n",
        "x = x + _x\n",
        "x = layers.Conv2D(1024, 1, activation='relu', padding=\"same\")(x)\n",
        "x = layers.AveragePooling2D(2)(x)\n",
        "\n",
        "x = layers.Flatten()(x)\n",
        "x = layers.Dense(128)(x)\n",
        "x = layers.Dense(128)(x)\n",
        "x = layers.Dense(10, activation='softmax')(x)\n",
        "outputs = x\n",
        "\n",
        "model = keras.Model(inputs, outputs)\n",
        "model.summary()"
      ],
      "execution_count": null,
      "outputs": [
        {
          "output_type": "stream",
          "text": [
            "Model: \"model_3\"\n",
            "__________________________________________________________________________________________________\n",
            "Layer (type)                    Output Shape         Param #     Connected to                     \n",
            "==================================================================================================\n",
            "input_12 (InputLayer)           [(None, 32, 32, 3)]  0                                            \n",
            "__________________________________________________________________________________________________\n",
            "conv2d_142 (Conv2D)             (None, 32, 32, 64)   256         input_12[0][0]                   \n",
            "__________________________________________________________________________________________________\n",
            "conv2d_143 (Conv2D)             (None, 32, 32, 64)   36928       conv2d_142[0][0]                 \n",
            "__________________________________________________________________________________________________\n",
            "conv2d_144 (Conv2D)             (None, 32, 32, 128)  8320        conv2d_143[0][0]                 \n",
            "__________________________________________________________________________________________________\n",
            "average_pooling2d_22 (AveragePo (None, 16, 16, 128)  0           conv2d_144[0][0]                 \n",
            "__________________________________________________________________________________________________\n",
            "conv2d_145 (Conv2D)             (None, 16, 16, 128)  16512       average_pooling2d_22[0][0]       \n",
            "__________________________________________________________________________________________________\n",
            "conv2d_146 (Conv2D)             (None, 16, 16, 128)  147584      conv2d_145[0][0]                 \n",
            "__________________________________________________________________________________________________\n",
            "tf.__operators__.add_51 (TFOpLa (None, 16, 16, 128)  0           average_pooling2d_22[0][0]       \n",
            "                                                                 conv2d_146[0][0]                 \n",
            "__________________________________________________________________________________________________\n",
            "conv2d_147 (Conv2D)             (None, 16, 16, 128)  16512       tf.__operators__.add_51[0][0]    \n",
            "__________________________________________________________________________________________________\n",
            "conv2d_148 (Conv2D)             (None, 16, 16, 128)  147584      conv2d_147[0][0]                 \n",
            "__________________________________________________________________________________________________\n",
            "tf.__operators__.add_52 (TFOpLa (None, 16, 16, 128)  0           tf.__operators__.add_51[0][0]    \n",
            "                                                                 conv2d_148[0][0]                 \n",
            "__________________________________________________________________________________________________\n",
            "conv2d_149 (Conv2D)             (None, 16, 16, 256)  33024       tf.__operators__.add_52[0][0]    \n",
            "__________________________________________________________________________________________________\n",
            "average_pooling2d_23 (AveragePo (None, 8, 8, 256)    0           conv2d_149[0][0]                 \n",
            "__________________________________________________________________________________________________\n",
            "conv2d_150 (Conv2D)             (None, 8, 8, 256)    65792       average_pooling2d_23[0][0]       \n",
            "__________________________________________________________________________________________________\n",
            "conv2d_151 (Conv2D)             (None, 8, 8, 256)    590080      conv2d_150[0][0]                 \n",
            "__________________________________________________________________________________________________\n",
            "tf.__operators__.add_53 (TFOpLa (None, 8, 8, 256)    0           average_pooling2d_23[0][0]       \n",
            "                                                                 conv2d_151[0][0]                 \n",
            "__________________________________________________________________________________________________\n",
            "conv2d_152 (Conv2D)             (None, 8, 8, 256)    65792       tf.__operators__.add_53[0][0]    \n",
            "__________________________________________________________________________________________________\n",
            "conv2d_153 (Conv2D)             (None, 8, 8, 256)    590080      conv2d_152[0][0]                 \n",
            "__________________________________________________________________________________________________\n",
            "tf.__operators__.add_54 (TFOpLa (None, 8, 8, 256)    0           tf.__operators__.add_53[0][0]    \n",
            "                                                                 conv2d_153[0][0]                 \n",
            "__________________________________________________________________________________________________\n",
            "conv2d_154 (Conv2D)             (None, 8, 8, 256)    65792       tf.__operators__.add_54[0][0]    \n",
            "__________________________________________________________________________________________________\n",
            "conv2d_155 (Conv2D)             (None, 8, 8, 256)    590080      conv2d_154[0][0]                 \n",
            "__________________________________________________________________________________________________\n",
            "tf.__operators__.add_55 (TFOpLa (None, 8, 8, 256)    0           tf.__operators__.add_54[0][0]    \n",
            "                                                                 conv2d_155[0][0]                 \n",
            "__________________________________________________________________________________________________\n",
            "conv2d_156 (Conv2D)             (None, 8, 8, 512)    131584      tf.__operators__.add_55[0][0]    \n",
            "__________________________________________________________________________________________________\n",
            "average_pooling2d_24 (AveragePo (None, 4, 4, 512)    0           conv2d_156[0][0]                 \n",
            "__________________________________________________________________________________________________\n",
            "conv2d_157 (Conv2D)             (None, 4, 4, 512)    262656      average_pooling2d_24[0][0]       \n",
            "__________________________________________________________________________________________________\n",
            "conv2d_158 (Conv2D)             (None, 4, 4, 512)    2359808     conv2d_157[0][0]                 \n",
            "__________________________________________________________________________________________________\n",
            "tf.__operators__.add_56 (TFOpLa (None, 4, 4, 512)    0           average_pooling2d_24[0][0]       \n",
            "                                                                 conv2d_158[0][0]                 \n",
            "__________________________________________________________________________________________________\n",
            "conv2d_159 (Conv2D)             (None, 4, 4, 512)    262656      tf.__operators__.add_56[0][0]    \n",
            "__________________________________________________________________________________________________\n",
            "conv2d_160 (Conv2D)             (None, 4, 4, 512)    2359808     conv2d_159[0][0]                 \n",
            "__________________________________________________________________________________________________\n",
            "tf.__operators__.add_57 (TFOpLa (None, 4, 4, 512)    0           tf.__operators__.add_56[0][0]    \n",
            "                                                                 conv2d_160[0][0]                 \n",
            "__________________________________________________________________________________________________\n",
            "conv2d_161 (Conv2D)             (None, 4, 4, 512)    262656      tf.__operators__.add_57[0][0]    \n",
            "__________________________________________________________________________________________________\n",
            "conv2d_162 (Conv2D)             (None, 4, 4, 512)    2359808     conv2d_161[0][0]                 \n",
            "__________________________________________________________________________________________________\n",
            "tf.__operators__.add_58 (TFOpLa (None, 4, 4, 512)    0           tf.__operators__.add_57[0][0]    \n",
            "                                                                 conv2d_162[0][0]                 \n",
            "__________________________________________________________________________________________________\n",
            "conv2d_163 (Conv2D)             (None, 4, 4, 512)    262656      tf.__operators__.add_58[0][0]    \n",
            "__________________________________________________________________________________________________\n",
            "conv2d_164 (Conv2D)             (None, 4, 4, 512)    2359808     conv2d_163[0][0]                 \n",
            "__________________________________________________________________________________________________\n",
            "tf.__operators__.add_59 (TFOpLa (None, 4, 4, 512)    0           tf.__operators__.add_58[0][0]    \n",
            "                                                                 conv2d_164[0][0]                 \n",
            "__________________________________________________________________________________________________\n",
            "conv2d_165 (Conv2D)             (None, 4, 4, 1024)   525312      tf.__operators__.add_59[0][0]    \n",
            "__________________________________________________________________________________________________\n",
            "average_pooling2d_25 (AveragePo (None, 2, 2, 1024)   0           conv2d_165[0][0]                 \n",
            "__________________________________________________________________________________________________\n",
            "flatten_3 (Flatten)             (None, 4096)         0           average_pooling2d_25[0][0]       \n",
            "__________________________________________________________________________________________________\n",
            "dense_9 (Dense)                 (None, 128)          524416      flatten_3[0][0]                  \n",
            "__________________________________________________________________________________________________\n",
            "dense_10 (Dense)                (None, 128)          16512       dense_9[0][0]                    \n",
            "__________________________________________________________________________________________________\n",
            "dense_11 (Dense)                (None, 10)           1290        dense_10[0][0]                   \n",
            "==================================================================================================\n",
            "Total params: 14,063,306\n",
            "Trainable params: 14,063,306\n",
            "Non-trainable params: 0\n",
            "__________________________________________________________________________________________________\n"
          ],
          "name": "stdout"
        }
      ]
    },
    {
      "cell_type": "code",
      "metadata": {
        "colab": {
          "base_uri": "https://localhost:8080/"
        },
        "id": "CFHitbK8cA8_",
        "outputId": "f3cd3d17-4381-45d6-d64f-9802a64862ee"
      },
      "source": [
        "model.compile(optimizer='adam',\n",
        "              loss='sparse_categorical_crossentropy',\n",
        "              metrics=['accuracy'])\n",
        "history = model.fit(x_train, y_train, validation_data=(x_test,y_test), epochs=15)"
      ],
      "execution_count": null,
      "outputs": [
        {
          "output_type": "stream",
          "text": [
            "Epoch 1/15\n",
            "1563/1563 [==============================] - 58s 36ms/step - loss: 1.9220 - accuracy: 0.2922 - val_loss: 1.4314 - val_accuracy: 0.4839\n",
            "Epoch 2/15\n",
            "1563/1563 [==============================] - 56s 36ms/step - loss: 1.3408 - accuracy: 0.5111 - val_loss: 1.2481 - val_accuracy: 0.5643\n",
            "Epoch 3/15\n",
            "1563/1563 [==============================] - 56s 36ms/step - loss: 1.1129 - accuracy: 0.6032 - val_loss: 1.0555 - val_accuracy: 0.6269\n",
            "Epoch 4/15\n",
            "1563/1563 [==============================] - 56s 36ms/step - loss: 0.9399 - accuracy: 0.6652 - val_loss: 1.0052 - val_accuracy: 0.6476\n",
            "Epoch 5/15\n",
            "1563/1563 [==============================] - 56s 36ms/step - loss: 0.8088 - accuracy: 0.7112 - val_loss: 0.9337 - val_accuracy: 0.6723\n",
            "Epoch 6/15\n",
            "1563/1563 [==============================] - 56s 36ms/step - loss: 0.7054 - accuracy: 0.7490 - val_loss: 0.8926 - val_accuracy: 0.6987\n",
            "Epoch 7/15\n",
            "1563/1563 [==============================] - 56s 36ms/step - loss: 0.6028 - accuracy: 0.7909 - val_loss: 0.8853 - val_accuracy: 0.6953\n",
            "Epoch 8/15\n",
            "1563/1563 [==============================] - 56s 36ms/step - loss: 0.5225 - accuracy: 0.8147 - val_loss: 0.8577 - val_accuracy: 0.7153\n",
            "Epoch 9/15\n",
            "1563/1563 [==============================] - 56s 36ms/step - loss: 0.4558 - accuracy: 0.8395 - val_loss: 0.8824 - val_accuracy: 0.7149\n",
            "Epoch 10/15\n",
            "1563/1563 [==============================] - 56s 36ms/step - loss: 0.3872 - accuracy: 0.8625 - val_loss: 0.9838 - val_accuracy: 0.7007\n",
            "Epoch 11/15\n",
            "1563/1563 [==============================] - 56s 36ms/step - loss: 0.3385 - accuracy: 0.8797 - val_loss: 1.0277 - val_accuracy: 0.7068\n",
            "Epoch 12/15\n",
            "1563/1563 [==============================] - 56s 36ms/step - loss: 0.2985 - accuracy: 0.8921 - val_loss: 1.0722 - val_accuracy: 0.7120\n",
            "Epoch 13/15\n",
            "1563/1563 [==============================] - 56s 36ms/step - loss: 0.2655 - accuracy: 0.9060 - val_loss: 1.0546 - val_accuracy: 0.7069\n",
            "Epoch 14/15\n",
            "1563/1563 [==============================] - 56s 36ms/step - loss: 0.2404 - accuracy: 0.9159 - val_loss: 1.1155 - val_accuracy: 0.7103\n",
            "Epoch 15/15\n",
            "1563/1563 [==============================] - 56s 36ms/step - loss: 0.2209 - accuracy: 0.9223 - val_loss: 1.1586 - val_accuracy: 0.7063\n"
          ],
          "name": "stdout"
        }
      ]
    },
    {
      "cell_type": "code",
      "metadata": {
        "colab": {
          "base_uri": "https://localhost:8080/",
          "height": 265
        },
        "id": "k1soe453UjXd",
        "outputId": "0eea8ab1-0caf-466d-9649-23cc860a93bc"
      },
      "source": [
        "acc = history.history['accuracy']\n",
        "test_acc = history.history['val_accuracy']\n",
        "epochs = range(1, len(acc) + 1)\n",
        "plt.plot(epochs, acc, label = 'Training acc')\n",
        "plt.plot(epochs, test_acc, label = 'Tset acc')\n",
        "plt.legend\n",
        "plt.figure\n",
        "plt.show()"
      ],
      "execution_count": null,
      "outputs": [
        {
          "output_type": "display_data",
          "data": {
            "image/png": "[encoded data removed]",
            "text/plain": [
              "<Figure size 432x288 with 1 Axes>"
            ]
          },
          "metadata": {
            "tags": [],
            "needs_background": "light"
          }
        }
      ]
    }
  ]
}